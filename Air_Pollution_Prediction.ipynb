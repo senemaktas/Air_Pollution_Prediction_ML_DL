{
 "cells": [
  {
   "cell_type": "markdown",
   "metadata": {},
   "source": [
    "# Air Pollution Prediction (Use Case) - SENEM AKTAŞ\n",
    "\n",
    "### Dataset Link: https://archive.ics.uci.edu/ml/datasets/Beijing+Multi-Site+Air-Quality+Data"
   ]
  },
  {
   "cell_type": "code",
   "execution_count": 40,
   "metadata": {},
   "outputs": [
    {
     "data": {
      "text/html": [
       "<img src=\"quality.png\" width=\"500\" height=\"200\"/>"
      ],
      "text/plain": [
       "<IPython.core.display.Image object>"
      ]
     },
     "execution_count": 40,
     "metadata": {},
     "output_type": "execute_result"
    }
   ],
   "source": [
    "from IPython.display import Image\n",
    "Image(url=\"quality.png\", width = 500, height = 200)"
   ]
  },
  {
   "cell_type": "markdown",
   "metadata": {},
   "source": [
    "# 1- Read And Examine Dataset CSV "
   ]
  },
  {
   "cell_type": "markdown",
   "metadata": {},
   "source": [
    "### Reading Dataset"
   ]
  },
  {
   "cell_type": "code",
   "execution_count": 103,
   "metadata": {
    "scrolled": false
   },
   "outputs": [
    {
     "name": "stdout",
     "output_type": "stream",
     "text": [
      "(43824, 13)\n"
     ]
    },
    {
     "data": {
      "text/html": [
       "<div>\n",
       "<style scoped>\n",
       "    .dataframe tbody tr th:only-of-type {\n",
       "        vertical-align: middle;\n",
       "    }\n",
       "\n",
       "    .dataframe tbody tr th {\n",
       "        vertical-align: top;\n",
       "    }\n",
       "\n",
       "    .dataframe thead th {\n",
       "        text-align: right;\n",
       "    }\n",
       "</style>\n",
       "<table border=\"1\" class=\"dataframe\">\n",
       "  <thead>\n",
       "    <tr style=\"text-align: right;\">\n",
       "      <th></th>\n",
       "      <th>No</th>\n",
       "      <th>year</th>\n",
       "      <th>month</th>\n",
       "      <th>day</th>\n",
       "      <th>hour</th>\n",
       "      <th>pollution</th>\n",
       "      <th>DEWP</th>\n",
       "      <th>TEMP</th>\n",
       "      <th>PRES</th>\n",
       "      <th>cbwd</th>\n",
       "      <th>Iws</th>\n",
       "      <th>Is</th>\n",
       "      <th>Ir</th>\n",
       "    </tr>\n",
       "  </thead>\n",
       "  <tbody>\n",
       "    <tr>\n",
       "      <th>0</th>\n",
       "      <td>1</td>\n",
       "      <td>2010</td>\n",
       "      <td>1</td>\n",
       "      <td>1</td>\n",
       "      <td>0</td>\n",
       "      <td>NaN</td>\n",
       "      <td>-21</td>\n",
       "      <td>-11.0</td>\n",
       "      <td>1021.0</td>\n",
       "      <td>NW</td>\n",
       "      <td>1.79</td>\n",
       "      <td>0</td>\n",
       "      <td>0</td>\n",
       "    </tr>\n",
       "    <tr>\n",
       "      <th>1</th>\n",
       "      <td>2</td>\n",
       "      <td>2010</td>\n",
       "      <td>1</td>\n",
       "      <td>1</td>\n",
       "      <td>1</td>\n",
       "      <td>NaN</td>\n",
       "      <td>-21</td>\n",
       "      <td>-12.0</td>\n",
       "      <td>1020.0</td>\n",
       "      <td>NW</td>\n",
       "      <td>4.92</td>\n",
       "      <td>0</td>\n",
       "      <td>0</td>\n",
       "    </tr>\n",
       "    <tr>\n",
       "      <th>2</th>\n",
       "      <td>3</td>\n",
       "      <td>2010</td>\n",
       "      <td>1</td>\n",
       "      <td>1</td>\n",
       "      <td>2</td>\n",
       "      <td>NaN</td>\n",
       "      <td>-21</td>\n",
       "      <td>-11.0</td>\n",
       "      <td>1019.0</td>\n",
       "      <td>NW</td>\n",
       "      <td>6.71</td>\n",
       "      <td>0</td>\n",
       "      <td>0</td>\n",
       "    </tr>\n",
       "    <tr>\n",
       "      <th>3</th>\n",
       "      <td>4</td>\n",
       "      <td>2010</td>\n",
       "      <td>1</td>\n",
       "      <td>1</td>\n",
       "      <td>3</td>\n",
       "      <td>NaN</td>\n",
       "      <td>-21</td>\n",
       "      <td>-14.0</td>\n",
       "      <td>1019.0</td>\n",
       "      <td>NW</td>\n",
       "      <td>9.84</td>\n",
       "      <td>0</td>\n",
       "      <td>0</td>\n",
       "    </tr>\n",
       "    <tr>\n",
       "      <th>4</th>\n",
       "      <td>5</td>\n",
       "      <td>2010</td>\n",
       "      <td>1</td>\n",
       "      <td>1</td>\n",
       "      <td>4</td>\n",
       "      <td>NaN</td>\n",
       "      <td>-20</td>\n",
       "      <td>-12.0</td>\n",
       "      <td>1018.0</td>\n",
       "      <td>NW</td>\n",
       "      <td>12.97</td>\n",
       "      <td>0</td>\n",
       "      <td>0</td>\n",
       "    </tr>\n",
       "    <tr>\n",
       "      <th>...</th>\n",
       "      <td>...</td>\n",
       "      <td>...</td>\n",
       "      <td>...</td>\n",
       "      <td>...</td>\n",
       "      <td>...</td>\n",
       "      <td>...</td>\n",
       "      <td>...</td>\n",
       "      <td>...</td>\n",
       "      <td>...</td>\n",
       "      <td>...</td>\n",
       "      <td>...</td>\n",
       "      <td>...</td>\n",
       "      <td>...</td>\n",
       "    </tr>\n",
       "    <tr>\n",
       "      <th>43819</th>\n",
       "      <td>43820</td>\n",
       "      <td>2014</td>\n",
       "      <td>12</td>\n",
       "      <td>31</td>\n",
       "      <td>19</td>\n",
       "      <td>8.0</td>\n",
       "      <td>-23</td>\n",
       "      <td>-2.0</td>\n",
       "      <td>1034.0</td>\n",
       "      <td>NW</td>\n",
       "      <td>231.97</td>\n",
       "      <td>0</td>\n",
       "      <td>0</td>\n",
       "    </tr>\n",
       "    <tr>\n",
       "      <th>43820</th>\n",
       "      <td>43821</td>\n",
       "      <td>2014</td>\n",
       "      <td>12</td>\n",
       "      <td>31</td>\n",
       "      <td>20</td>\n",
       "      <td>10.0</td>\n",
       "      <td>-22</td>\n",
       "      <td>-3.0</td>\n",
       "      <td>1034.0</td>\n",
       "      <td>NW</td>\n",
       "      <td>237.78</td>\n",
       "      <td>0</td>\n",
       "      <td>0</td>\n",
       "    </tr>\n",
       "    <tr>\n",
       "      <th>43821</th>\n",
       "      <td>43822</td>\n",
       "      <td>2014</td>\n",
       "      <td>12</td>\n",
       "      <td>31</td>\n",
       "      <td>21</td>\n",
       "      <td>10.0</td>\n",
       "      <td>-22</td>\n",
       "      <td>-3.0</td>\n",
       "      <td>1034.0</td>\n",
       "      <td>NW</td>\n",
       "      <td>242.70</td>\n",
       "      <td>0</td>\n",
       "      <td>0</td>\n",
       "    </tr>\n",
       "    <tr>\n",
       "      <th>43822</th>\n",
       "      <td>43823</td>\n",
       "      <td>2014</td>\n",
       "      <td>12</td>\n",
       "      <td>31</td>\n",
       "      <td>22</td>\n",
       "      <td>8.0</td>\n",
       "      <td>-22</td>\n",
       "      <td>-4.0</td>\n",
       "      <td>1034.0</td>\n",
       "      <td>NW</td>\n",
       "      <td>246.72</td>\n",
       "      <td>0</td>\n",
       "      <td>0</td>\n",
       "    </tr>\n",
       "    <tr>\n",
       "      <th>43823</th>\n",
       "      <td>43824</td>\n",
       "      <td>2014</td>\n",
       "      <td>12</td>\n",
       "      <td>31</td>\n",
       "      <td>23</td>\n",
       "      <td>12.0</td>\n",
       "      <td>-21</td>\n",
       "      <td>-3.0</td>\n",
       "      <td>1034.0</td>\n",
       "      <td>NW</td>\n",
       "      <td>249.85</td>\n",
       "      <td>0</td>\n",
       "      <td>0</td>\n",
       "    </tr>\n",
       "  </tbody>\n",
       "</table>\n",
       "<p>43824 rows × 13 columns</p>\n",
       "</div>"
      ],
      "text/plain": [
       "          No  year  month  day  hour  pollution  DEWP  TEMP    PRES cbwd  \\\n",
       "0          1  2010      1    1     0        NaN   -21 -11.0  1021.0   NW   \n",
       "1          2  2010      1    1     1        NaN   -21 -12.0  1020.0   NW   \n",
       "2          3  2010      1    1     2        NaN   -21 -11.0  1019.0   NW   \n",
       "3          4  2010      1    1     3        NaN   -21 -14.0  1019.0   NW   \n",
       "4          5  2010      1    1     4        NaN   -20 -12.0  1018.0   NW   \n",
       "...      ...   ...    ...  ...   ...        ...   ...   ...     ...  ...   \n",
       "43819  43820  2014     12   31    19        8.0   -23  -2.0  1034.0   NW   \n",
       "43820  43821  2014     12   31    20       10.0   -22  -3.0  1034.0   NW   \n",
       "43821  43822  2014     12   31    21       10.0   -22  -3.0  1034.0   NW   \n",
       "43822  43823  2014     12   31    22        8.0   -22  -4.0  1034.0   NW   \n",
       "43823  43824  2014     12   31    23       12.0   -21  -3.0  1034.0   NW   \n",
       "\n",
       "          Iws  Is  Ir  \n",
       "0        1.79   0   0  \n",
       "1        4.92   0   0  \n",
       "2        6.71   0   0  \n",
       "3        9.84   0   0  \n",
       "4       12.97   0   0  \n",
       "...       ...  ..  ..  \n",
       "43819  231.97   0   0  \n",
       "43820  237.78   0   0  \n",
       "43821  242.70   0   0  \n",
       "43822  246.72   0   0  \n",
       "43823  249.85   0   0  \n",
       "\n",
       "[43824 rows x 13 columns]"
      ]
     },
     "execution_count": 103,
     "metadata": {},
     "output_type": "execute_result"
    }
   ],
   "source": [
    "import pandas as pd\n",
    "import numpy as np\n",
    "import matplotlib.pyplot as plt\n",
    "%matplotlib inline \n",
    "import seaborn as sns\n",
    "import sklearn\n",
    "#df = pd.read_csv(\"pollution.csv\", parse_dates=True, index_col = \"hour\")\n",
    "\n",
    "df= pd.read_csv(\"pollution.csv\") # reading csv which include our dataset\n",
    "print(df.shape)  #shape of the dataset - number of rows and columns\n",
    "\n",
    "df.rename(columns={'pm2.5':'pollution'},inplace=True) #changed the name of pm2.5 -> pollution\n",
    "\n",
    "df #reading dataset and print to screen"
   ]
  },
  {
   "cell_type": "markdown",
   "metadata": {},
   "source": [
    "### Plot the \"pollution: pollution concentration (pollution)\" column. We need to look them and predict future air pollution. "
   ]
  },
  {
   "cell_type": "code",
   "execution_count": 273,
   "metadata": {
    "scrolled": false
   },
   "outputs": [
    {
     "data": {
      "text/plain": [
       "<matplotlib.axes._subplots.AxesSubplot at 0x7fb8f6f1d2d0>"
      ]
     },
     "execution_count": 273,
     "metadata": {},
     "output_type": "execute_result"
    },
    {
     "data": {
      "image/png": "[encoded data removed]",
      "text/plain": [
       "<Figure size 720x288 with 1 Axes>"
      ]
     },
     "metadata": {
      "needs_background": "light"
     },
     "output_type": "display_data"
    }
   ],
   "source": [
    "df['pollution'].plot(figsize=(10,4))"
   ]
  },
  {
   "cell_type": "markdown",
   "metadata": {},
   "source": [
    "### Plot all the other columns as well in a plot to examine the curves of all of them at the same time."
   ]
  },
  {
   "cell_type": "code",
   "execution_count": 2,
   "metadata": {},
   "outputs": [
    {
     "data": {
      "text/plain": [
       "array([<matplotlib.axes._subplots.AxesSubplot object at 0x7fda78e99a90>,\n",
       "       <matplotlib.axes._subplots.AxesSubplot object at 0x7fda7b866fd0>,\n",
       "       <matplotlib.axes._subplots.AxesSubplot object at 0x7fda78b335d0>,\n",
       "       <matplotlib.axes._subplots.AxesSubplot object at 0x7fda782ffc10>,\n",
       "       <matplotlib.axes._subplots.AxesSubplot object at 0x7fda782bee10>,\n",
       "       <matplotlib.axes._subplots.AxesSubplot object at 0x7fda78274950>,\n",
       "       <matplotlib.axes._subplots.AxesSubplot object at 0x7fda782a8fd0>,\n",
       "       <matplotlib.axes._subplots.AxesSubplot object at 0x7fda7826b690>,\n",
       "       <matplotlib.axes._subplots.AxesSubplot object at 0x7fda781f6210>,\n",
       "       <matplotlib.axes._subplots.AxesSubplot object at 0x7fda7822aa10>,\n",
       "       <matplotlib.axes._subplots.AxesSubplot object at 0x7fda78195a50>,\n",
       "       <matplotlib.axes._subplots.AxesSubplot object at 0x7fda78154c50>],\n",
       "      dtype=object)"
      ]
     },
     "execution_count": 2,
     "metadata": {},
     "output_type": "execute_result"
    },
    {
     "data": {
      "image/png": "[encoded data removed]",
      "text/plain": [
       "<Figure size 864x576 with 12 Axes>"
      ]
     },
     "metadata": {
      "needs_background": "light"
     },
     "output_type": "display_data"
    }
   ],
   "source": [
    "df.plot(subplots=True, figsize=(12,8))"
   ]
  },
  {
   "cell_type": "markdown",
   "metadata": {},
   "source": [
    "# 2- Preprocessing Dataset"
   ]
  },
  {
   "cell_type": "markdown",
   "metadata": {},
   "source": [
    "### Convert  dates into a standard format - timestamp\n",
    "- We can see that the dataset looks like time series data as it has day hour month and year. So, we convert these columns into a timestamp."
   ]
  },
  {
   "cell_type": "code",
   "execution_count": 104,
   "metadata": {},
   "outputs": [
    {
     "data": {
      "text/html": [
       "<div>\n",
       "<style scoped>\n",
       "    .dataframe tbody tr th:only-of-type {\n",
       "        vertical-align: middle;\n",
       "    }\n",
       "\n",
       "    .dataframe tbody tr th {\n",
       "        vertical-align: top;\n",
       "    }\n",
       "\n",
       "    .dataframe thead th {\n",
       "        text-align: right;\n",
       "    }\n",
       "</style>\n",
       "<table border=\"1\" class=\"dataframe\">\n",
       "  <thead>\n",
       "    <tr style=\"text-align: right;\">\n",
       "      <th></th>\n",
       "      <th>No</th>\n",
       "      <th>year</th>\n",
       "      <th>month</th>\n",
       "      <th>day</th>\n",
       "      <th>hour</th>\n",
       "      <th>pollution</th>\n",
       "      <th>DEWP</th>\n",
       "      <th>TEMP</th>\n",
       "      <th>PRES</th>\n",
       "      <th>cbwd</th>\n",
       "      <th>Iws</th>\n",
       "      <th>Is</th>\n",
       "      <th>Ir</th>\n",
       "      <th>DateTime</th>\n",
       "    </tr>\n",
       "  </thead>\n",
       "  <tbody>\n",
       "    <tr>\n",
       "      <th>0</th>\n",
       "      <td>1</td>\n",
       "      <td>2010</td>\n",
       "      <td>1</td>\n",
       "      <td>1</td>\n",
       "      <td>0</td>\n",
       "      <td>NaN</td>\n",
       "      <td>-21</td>\n",
       "      <td>-11.0</td>\n",
       "      <td>1021.0</td>\n",
       "      <td>NW</td>\n",
       "      <td>1.79</td>\n",
       "      <td>0</td>\n",
       "      <td>0</td>\n",
       "      <td>1262304000</td>\n",
       "    </tr>\n",
       "    <tr>\n",
       "      <th>1</th>\n",
       "      <td>2</td>\n",
       "      <td>2010</td>\n",
       "      <td>1</td>\n",
       "      <td>1</td>\n",
       "      <td>1</td>\n",
       "      <td>NaN</td>\n",
       "      <td>-21</td>\n",
       "      <td>-12.0</td>\n",
       "      <td>1020.0</td>\n",
       "      <td>NW</td>\n",
       "      <td>4.92</td>\n",
       "      <td>0</td>\n",
       "      <td>0</td>\n",
       "      <td>1262307600</td>\n",
       "    </tr>\n",
       "    <tr>\n",
       "      <th>2</th>\n",
       "      <td>3</td>\n",
       "      <td>2010</td>\n",
       "      <td>1</td>\n",
       "      <td>1</td>\n",
       "      <td>2</td>\n",
       "      <td>NaN</td>\n",
       "      <td>-21</td>\n",
       "      <td>-11.0</td>\n",
       "      <td>1019.0</td>\n",
       "      <td>NW</td>\n",
       "      <td>6.71</td>\n",
       "      <td>0</td>\n",
       "      <td>0</td>\n",
       "      <td>1262311200</td>\n",
       "    </tr>\n",
       "    <tr>\n",
       "      <th>3</th>\n",
       "      <td>4</td>\n",
       "      <td>2010</td>\n",
       "      <td>1</td>\n",
       "      <td>1</td>\n",
       "      <td>3</td>\n",
       "      <td>NaN</td>\n",
       "      <td>-21</td>\n",
       "      <td>-14.0</td>\n",
       "      <td>1019.0</td>\n",
       "      <td>NW</td>\n",
       "      <td>9.84</td>\n",
       "      <td>0</td>\n",
       "      <td>0</td>\n",
       "      <td>1262314800</td>\n",
       "    </tr>\n",
       "    <tr>\n",
       "      <th>4</th>\n",
       "      <td>5</td>\n",
       "      <td>2010</td>\n",
       "      <td>1</td>\n",
       "      <td>1</td>\n",
       "      <td>4</td>\n",
       "      <td>NaN</td>\n",
       "      <td>-20</td>\n",
       "      <td>-12.0</td>\n",
       "      <td>1018.0</td>\n",
       "      <td>NW</td>\n",
       "      <td>12.97</td>\n",
       "      <td>0</td>\n",
       "      <td>0</td>\n",
       "      <td>1262318400</td>\n",
       "    </tr>\n",
       "    <tr>\n",
       "      <th>...</th>\n",
       "      <td>...</td>\n",
       "      <td>...</td>\n",
       "      <td>...</td>\n",
       "      <td>...</td>\n",
       "      <td>...</td>\n",
       "      <td>...</td>\n",
       "      <td>...</td>\n",
       "      <td>...</td>\n",
       "      <td>...</td>\n",
       "      <td>...</td>\n",
       "      <td>...</td>\n",
       "      <td>...</td>\n",
       "      <td>...</td>\n",
       "      <td>...</td>\n",
       "    </tr>\n",
       "    <tr>\n",
       "      <th>43819</th>\n",
       "      <td>43820</td>\n",
       "      <td>2014</td>\n",
       "      <td>12</td>\n",
       "      <td>31</td>\n",
       "      <td>19</td>\n",
       "      <td>8.0</td>\n",
       "      <td>-23</td>\n",
       "      <td>-2.0</td>\n",
       "      <td>1034.0</td>\n",
       "      <td>NW</td>\n",
       "      <td>231.97</td>\n",
       "      <td>0</td>\n",
       "      <td>0</td>\n",
       "      <td>1420052400</td>\n",
       "    </tr>\n",
       "    <tr>\n",
       "      <th>43820</th>\n",
       "      <td>43821</td>\n",
       "      <td>2014</td>\n",
       "      <td>12</td>\n",
       "      <td>31</td>\n",
       "      <td>20</td>\n",
       "      <td>10.0</td>\n",
       "      <td>-22</td>\n",
       "      <td>-3.0</td>\n",
       "      <td>1034.0</td>\n",
       "      <td>NW</td>\n",
       "      <td>237.78</td>\n",
       "      <td>0</td>\n",
       "      <td>0</td>\n",
       "      <td>1420056000</td>\n",
       "    </tr>\n",
       "    <tr>\n",
       "      <th>43821</th>\n",
       "      <td>43822</td>\n",
       "      <td>2014</td>\n",
       "      <td>12</td>\n",
       "      <td>31</td>\n",
       "      <td>21</td>\n",
       "      <td>10.0</td>\n",
       "      <td>-22</td>\n",
       "      <td>-3.0</td>\n",
       "      <td>1034.0</td>\n",
       "      <td>NW</td>\n",
       "      <td>242.70</td>\n",
       "      <td>0</td>\n",
       "      <td>0</td>\n",
       "      <td>1420059600</td>\n",
       "    </tr>\n",
       "    <tr>\n",
       "      <th>43822</th>\n",
       "      <td>43823</td>\n",
       "      <td>2014</td>\n",
       "      <td>12</td>\n",
       "      <td>31</td>\n",
       "      <td>22</td>\n",
       "      <td>8.0</td>\n",
       "      <td>-22</td>\n",
       "      <td>-4.0</td>\n",
       "      <td>1034.0</td>\n",
       "      <td>NW</td>\n",
       "      <td>246.72</td>\n",
       "      <td>0</td>\n",
       "      <td>0</td>\n",
       "      <td>1420063200</td>\n",
       "    </tr>\n",
       "    <tr>\n",
       "      <th>43823</th>\n",
       "      <td>43824</td>\n",
       "      <td>2014</td>\n",
       "      <td>12</td>\n",
       "      <td>31</td>\n",
       "      <td>23</td>\n",
       "      <td>12.0</td>\n",
       "      <td>-21</td>\n",
       "      <td>-3.0</td>\n",
       "      <td>1034.0</td>\n",
       "      <td>NW</td>\n",
       "      <td>249.85</td>\n",
       "      <td>0</td>\n",
       "      <td>0</td>\n",
       "      <td>1420066800</td>\n",
       "    </tr>\n",
       "  </tbody>\n",
       "</table>\n",
       "<p>43824 rows × 14 columns</p>\n",
       "</div>"
      ],
      "text/plain": [
       "          No  year  month  day  hour  pollution  DEWP  TEMP    PRES cbwd  \\\n",
       "0          1  2010      1    1     0        NaN   -21 -11.0  1021.0   NW   \n",
       "1          2  2010      1    1     1        NaN   -21 -12.0  1020.0   NW   \n",
       "2          3  2010      1    1     2        NaN   -21 -11.0  1019.0   NW   \n",
       "3          4  2010      1    1     3        NaN   -21 -14.0  1019.0   NW   \n",
       "4          5  2010      1    1     4        NaN   -20 -12.0  1018.0   NW   \n",
       "...      ...   ...    ...  ...   ...        ...   ...   ...     ...  ...   \n",
       "43819  43820  2014     12   31    19        8.0   -23  -2.0  1034.0   NW   \n",
       "43820  43821  2014     12   31    20       10.0   -22  -3.0  1034.0   NW   \n",
       "43821  43822  2014     12   31    21       10.0   -22  -3.0  1034.0   NW   \n",
       "43822  43823  2014     12   31    22        8.0   -22  -4.0  1034.0   NW   \n",
       "43823  43824  2014     12   31    23       12.0   -21  -3.0  1034.0   NW   \n",
       "\n",
       "          Iws  Is  Ir    DateTime  \n",
       "0        1.79   0   0  1262304000  \n",
       "1        4.92   0   0  1262307600  \n",
       "2        6.71   0   0  1262311200  \n",
       "3        9.84   0   0  1262314800  \n",
       "4       12.97   0   0  1262318400  \n",
       "...       ...  ..  ..         ...  \n",
       "43819  231.97   0   0  1420052400  \n",
       "43820  237.78   0   0  1420056000  \n",
       "43821  242.70   0   0  1420059600  \n",
       "43822  246.72   0   0  1420063200  \n",
       "43823  249.85   0   0  1420066800  \n",
       "\n",
       "[43824 rows x 14 columns]"
      ]
     },
     "execution_count": 104,
     "metadata": {},
     "output_type": "execute_result"
    }
   ],
   "source": [
    "import datetime\n",
    "\n",
    "df['hour'] = df['hour'].replace(24,0)\n",
    "df['DateTime'] = df[['year', 'month', 'day', 'hour']].apply(lambda s : datetime.datetime(*s),axis = 1)\n",
    "df['DateTime'] = pd.to_datetime(df['DateTime'])\n",
    "df['DateTime'] = df.DateTime.values.astype(np.int64) // 10 ** 9 \n",
    "\n",
    "df"
   ]
  },
  {
   "cell_type": "markdown",
   "metadata": {},
   "source": [
    "### Remove the unwanted columns\n",
    "- We maintain \"DateTime\" column in the previous block. Removing 'No' column, as it is not relevant."
   ]
  },
  {
   "cell_type": "code",
   "execution_count": 105,
   "metadata": {},
   "outputs": [
    {
     "name": "stdout",
     "output_type": "stream",
     "text": [
      "(43824, 9)\n"
     ]
    },
    {
     "data": {
      "text/html": [
       "<div>\n",
       "<style scoped>\n",
       "    .dataframe tbody tr th:only-of-type {\n",
       "        vertical-align: middle;\n",
       "    }\n",
       "\n",
       "    .dataframe tbody tr th {\n",
       "        vertical-align: top;\n",
       "    }\n",
       "\n",
       "    .dataframe thead th {\n",
       "        text-align: right;\n",
       "    }\n",
       "</style>\n",
       "<table border=\"1\" class=\"dataframe\">\n",
       "  <thead>\n",
       "    <tr style=\"text-align: right;\">\n",
       "      <th></th>\n",
       "      <th>pollution</th>\n",
       "      <th>DEWP</th>\n",
       "      <th>TEMP</th>\n",
       "      <th>PRES</th>\n",
       "      <th>cbwd</th>\n",
       "      <th>Iws</th>\n",
       "      <th>Is</th>\n",
       "      <th>Ir</th>\n",
       "      <th>DateTime</th>\n",
       "    </tr>\n",
       "  </thead>\n",
       "  <tbody>\n",
       "    <tr>\n",
       "      <th>0</th>\n",
       "      <td>NaN</td>\n",
       "      <td>-21</td>\n",
       "      <td>-11.0</td>\n",
       "      <td>1021.0</td>\n",
       "      <td>NW</td>\n",
       "      <td>1.79</td>\n",
       "      <td>0</td>\n",
       "      <td>0</td>\n",
       "      <td>1262304000</td>\n",
       "    </tr>\n",
       "    <tr>\n",
       "      <th>1</th>\n",
       "      <td>NaN</td>\n",
       "      <td>-21</td>\n",
       "      <td>-12.0</td>\n",
       "      <td>1020.0</td>\n",
       "      <td>NW</td>\n",
       "      <td>4.92</td>\n",
       "      <td>0</td>\n",
       "      <td>0</td>\n",
       "      <td>1262307600</td>\n",
       "    </tr>\n",
       "    <tr>\n",
       "      <th>2</th>\n",
       "      <td>NaN</td>\n",
       "      <td>-21</td>\n",
       "      <td>-11.0</td>\n",
       "      <td>1019.0</td>\n",
       "      <td>NW</td>\n",
       "      <td>6.71</td>\n",
       "      <td>0</td>\n",
       "      <td>0</td>\n",
       "      <td>1262311200</td>\n",
       "    </tr>\n",
       "  </tbody>\n",
       "</table>\n",
       "</div>"
      ],
      "text/plain": [
       "   pollution  DEWP  TEMP    PRES cbwd   Iws  Is  Ir    DateTime\n",
       "0        NaN   -21 -11.0  1021.0   NW  1.79   0   0  1262304000\n",
       "1        NaN   -21 -12.0  1020.0   NW  4.92   0   0  1262307600\n",
       "2        NaN   -21 -11.0  1019.0   NW  6.71   0   0  1262311200"
      ]
     },
     "execution_count": 105,
     "metadata": {},
     "output_type": "execute_result"
    }
   ],
   "source": [
    "try:\n",
    "  df.drop('No',axis = 1,inplace= True)\n",
    "  df.drop('year',axis = 1,inplace= True)\n",
    "  df.drop('month',axis = 1,inplace= True)\n",
    "  df.drop('day',axis = 1,inplace= True)\n",
    "  df.drop('hour',axis = 1,inplace= True)\n",
    "  print(df.shape)\n",
    "except:\n",
    "  print(df.shape)\n",
    "  #print(\"Already Done\")\n",
    "\n",
    "df = df.sort_values(by='DateTime',ascending=True)\n",
    "\n",
    "# df = df.set_index('DateTime') # define DateTime columns as a index\n",
    "\n",
    "df.head(3)"
   ]
  },
  {
   "cell_type": "markdown",
   "metadata": {},
   "source": [
    "### Calculation Null Values and Filling Them with Mean Values\n",
    "- As a result, we could see there are 2067 NA values for pollution column. This column is our target column. Because of its importance we can not remove easily Null values."
   ]
  },
  {
   "cell_type": "code",
   "execution_count": 106,
   "metadata": {},
   "outputs": [
    {
     "name": "stdout",
     "output_type": "stream",
     "text": [
      "Null values:\n",
      "\n",
      " pollution    2067\n",
      "DEWP            0\n",
      "TEMP            0\n",
      "PRES            0\n",
      "cbwd            0\n",
      "Iws             0\n",
      "Is              0\n",
      "Ir              0\n",
      "DateTime        0\n",
      "dtype: int64\n"
     ]
    },
    {
     "data": {
      "text/plain": [
       "(43824, 9)"
      ]
     },
     "execution_count": 106,
     "metadata": {},
     "output_type": "execute_result"
    }
   ],
   "source": [
    "print(\"Null values:\\n\\n\",df.isnull().sum())\n",
    "#Remvoing Null values\n",
    "#df = df.dropna()\n",
    "#print(\"\\nNull values:\\n\\n\",df.isnull().sum())\n",
    "df.shape"
   ]
  },
  {
   "cell_type": "code",
   "execution_count": 107,
   "metadata": {},
   "outputs": [
    {
     "data": {
      "text/html": [
       "<div>\n",
       "<style scoped>\n",
       "    .dataframe tbody tr th:only-of-type {\n",
       "        vertical-align: middle;\n",
       "    }\n",
       "\n",
       "    .dataframe tbody tr th {\n",
       "        vertical-align: top;\n",
       "    }\n",
       "\n",
       "    .dataframe thead th {\n",
       "        text-align: right;\n",
       "    }\n",
       "</style>\n",
       "<table border=\"1\" class=\"dataframe\">\n",
       "  <thead>\n",
       "    <tr style=\"text-align: right;\">\n",
       "      <th></th>\n",
       "      <th>pollution</th>\n",
       "      <th>DEWP</th>\n",
       "      <th>TEMP</th>\n",
       "      <th>PRES</th>\n",
       "      <th>cbwd</th>\n",
       "      <th>Iws</th>\n",
       "      <th>Is</th>\n",
       "      <th>Ir</th>\n",
       "      <th>DateTime</th>\n",
       "    </tr>\n",
       "  </thead>\n",
       "  <tbody>\n",
       "    <tr>\n",
       "      <th>0</th>\n",
       "      <td>98.613215</td>\n",
       "      <td>-21</td>\n",
       "      <td>-11.0</td>\n",
       "      <td>1021.0</td>\n",
       "      <td>NW</td>\n",
       "      <td>1.79</td>\n",
       "      <td>0</td>\n",
       "      <td>0</td>\n",
       "      <td>1262304000</td>\n",
       "    </tr>\n",
       "    <tr>\n",
       "      <th>1</th>\n",
       "      <td>98.613215</td>\n",
       "      <td>-21</td>\n",
       "      <td>-12.0</td>\n",
       "      <td>1020.0</td>\n",
       "      <td>NW</td>\n",
       "      <td>4.92</td>\n",
       "      <td>0</td>\n",
       "      <td>0</td>\n",
       "      <td>1262307600</td>\n",
       "    </tr>\n",
       "    <tr>\n",
       "      <th>2</th>\n",
       "      <td>98.613215</td>\n",
       "      <td>-21</td>\n",
       "      <td>-11.0</td>\n",
       "      <td>1019.0</td>\n",
       "      <td>NW</td>\n",
       "      <td>6.71</td>\n",
       "      <td>0</td>\n",
       "      <td>0</td>\n",
       "      <td>1262311200</td>\n",
       "    </tr>\n",
       "    <tr>\n",
       "      <th>3</th>\n",
       "      <td>98.613215</td>\n",
       "      <td>-21</td>\n",
       "      <td>-14.0</td>\n",
       "      <td>1019.0</td>\n",
       "      <td>NW</td>\n",
       "      <td>9.84</td>\n",
       "      <td>0</td>\n",
       "      <td>0</td>\n",
       "      <td>1262314800</td>\n",
       "    </tr>\n",
       "    <tr>\n",
       "      <th>4</th>\n",
       "      <td>98.613215</td>\n",
       "      <td>-20</td>\n",
       "      <td>-12.0</td>\n",
       "      <td>1018.0</td>\n",
       "      <td>NW</td>\n",
       "      <td>12.97</td>\n",
       "      <td>0</td>\n",
       "      <td>0</td>\n",
       "      <td>1262318400</td>\n",
       "    </tr>\n",
       "    <tr>\n",
       "      <th>...</th>\n",
       "      <td>...</td>\n",
       "      <td>...</td>\n",
       "      <td>...</td>\n",
       "      <td>...</td>\n",
       "      <td>...</td>\n",
       "      <td>...</td>\n",
       "      <td>...</td>\n",
       "      <td>...</td>\n",
       "      <td>...</td>\n",
       "    </tr>\n",
       "    <tr>\n",
       "      <th>43819</th>\n",
       "      <td>8.000000</td>\n",
       "      <td>-23</td>\n",
       "      <td>-2.0</td>\n",
       "      <td>1034.0</td>\n",
       "      <td>NW</td>\n",
       "      <td>231.97</td>\n",
       "      <td>0</td>\n",
       "      <td>0</td>\n",
       "      <td>1420052400</td>\n",
       "    </tr>\n",
       "    <tr>\n",
       "      <th>43820</th>\n",
       "      <td>10.000000</td>\n",
       "      <td>-22</td>\n",
       "      <td>-3.0</td>\n",
       "      <td>1034.0</td>\n",
       "      <td>NW</td>\n",
       "      <td>237.78</td>\n",
       "      <td>0</td>\n",
       "      <td>0</td>\n",
       "      <td>1420056000</td>\n",
       "    </tr>\n",
       "    <tr>\n",
       "      <th>43821</th>\n",
       "      <td>10.000000</td>\n",
       "      <td>-22</td>\n",
       "      <td>-3.0</td>\n",
       "      <td>1034.0</td>\n",
       "      <td>NW</td>\n",
       "      <td>242.70</td>\n",
       "      <td>0</td>\n",
       "      <td>0</td>\n",
       "      <td>1420059600</td>\n",
       "    </tr>\n",
       "    <tr>\n",
       "      <th>43822</th>\n",
       "      <td>8.000000</td>\n",
       "      <td>-22</td>\n",
       "      <td>-4.0</td>\n",
       "      <td>1034.0</td>\n",
       "      <td>NW</td>\n",
       "      <td>246.72</td>\n",
       "      <td>0</td>\n",
       "      <td>0</td>\n",
       "      <td>1420063200</td>\n",
       "    </tr>\n",
       "    <tr>\n",
       "      <th>43823</th>\n",
       "      <td>12.000000</td>\n",
       "      <td>-21</td>\n",
       "      <td>-3.0</td>\n",
       "      <td>1034.0</td>\n",
       "      <td>NW</td>\n",
       "      <td>249.85</td>\n",
       "      <td>0</td>\n",
       "      <td>0</td>\n",
       "      <td>1420066800</td>\n",
       "    </tr>\n",
       "  </tbody>\n",
       "</table>\n",
       "<p>43824 rows × 9 columns</p>\n",
       "</div>"
      ],
      "text/plain": [
       "       pollution  DEWP  TEMP    PRES cbwd     Iws  Is  Ir    DateTime\n",
       "0      98.613215   -21 -11.0  1021.0   NW    1.79   0   0  1262304000\n",
       "1      98.613215   -21 -12.0  1020.0   NW    4.92   0   0  1262307600\n",
       "2      98.613215   -21 -11.0  1019.0   NW    6.71   0   0  1262311200\n",
       "3      98.613215   -21 -14.0  1019.0   NW    9.84   0   0  1262314800\n",
       "4      98.613215   -20 -12.0  1018.0   NW   12.97   0   0  1262318400\n",
       "...          ...   ...   ...     ...  ...     ...  ..  ..         ...\n",
       "43819   8.000000   -23  -2.0  1034.0   NW  231.97   0   0  1420052400\n",
       "43820  10.000000   -22  -3.0  1034.0   NW  237.78   0   0  1420056000\n",
       "43821  10.000000   -22  -3.0  1034.0   NW  242.70   0   0  1420059600\n",
       "43822   8.000000   -22  -4.0  1034.0   NW  246.72   0   0  1420063200\n",
       "43823  12.000000   -21  -3.0  1034.0   NW  249.85   0   0  1420066800\n",
       "\n",
       "[43824 rows x 9 columns]"
      ]
     },
     "execution_count": 107,
     "metadata": {},
     "output_type": "execute_result"
    }
   ],
   "source": [
    "df_new=df\n",
    "df_new = df_new.assign(pollution=df_new.pollution.fillna(df_new.pollution.mean()))\n",
    "df_new"
   ]
  },
  {
   "cell_type": "markdown",
   "metadata": {},
   "source": [
    "### Finding and Removing Outliers\n",
    "- The outliers can be a result of a mistake during data collection or it can be just an indication of variance in your data. Often machine learning modeling, and model skill in general, can be improved by understanding or even removing these outliers. \n",
    "- In descriptive statistics, a box plot is a method for graphically depicting groups of numerical data through their quartiles. Box plots may also have lines extending vertically from the boxes (whiskers) indicating variability outside the upper and lower quartiles, hence the terms box-and-whisker plot and box-and-whisker diagram. Outliers may be plotted as individual points. If there is an outlier it will plotted as point in the boxplot but other population will be grouped together and display as boxes. "
   ]
  },
  {
   "cell_type": "code",
   "execution_count": 108,
   "metadata": {},
   "outputs": [
    {
     "name": "stdout",
     "output_type": "stream",
     "text": [
      "Shape of dataframe before removing outliers (43824, 9)\n",
      "\n",
      "Shape of dataframe after removing outliers (41707, 9)\n"
     ]
    }
   ],
   "source": [
    "print(\"Shape of dataframe before removing outliers\",df_new.shape)\n",
    "\n",
    "Q1=df_new['pollution'].quantile(0.25)\n",
    "Q3=df_new['pollution'].quantile(0.75)\n",
    "IQR=Q3-Q1\n",
    "Lower_Whisker = Q1-1.5*IQR\n",
    "Upper_Whisker = Q3+1.5*IQR\n",
    "\n",
    "df_new = df_new[df_new['pollution'] < Upper_Whisker]\n",
    "\n",
    "print(\"\\nShape of dataframe after removing outliers\",df_new.shape)"
   ]
  },
  {
   "cell_type": "markdown",
   "metadata": {},
   "source": [
    "### Checking correlations between the independent variables\n",
    "- It is important to discover and quantify the degree to which variables in your dataset are dependent upon each other. This knowledge can help you better prepare your data to meet the expectations of machine learning algorithms, such as linear regression, whose performance will degrade with the presence of these interdependencies."
   ]
  },
  {
   "cell_type": "code",
   "execution_count": 109,
   "metadata": {},
   "outputs": [
    {
     "data": {
      "image/png": "[encoded data removed]",
      "text/plain": [
       "<Figure size 576x288 with 2 Axes>"
      ]
     },
     "metadata": {
      "needs_background": "light"
     },
     "output_type": "display_data"
    },
    {
     "data": {
      "text/html": [
       "<div>\n",
       "<style scoped>\n",
       "    .dataframe tbody tr th:only-of-type {\n",
       "        vertical-align: middle;\n",
       "    }\n",
       "\n",
       "    .dataframe tbody tr th {\n",
       "        vertical-align: top;\n",
       "    }\n",
       "\n",
       "    .dataframe thead th {\n",
       "        text-align: right;\n",
       "    }\n",
       "</style>\n",
       "<table border=\"1\" class=\"dataframe\">\n",
       "  <thead>\n",
       "    <tr style=\"text-align: right;\">\n",
       "      <th></th>\n",
       "      <th>pollution</th>\n",
       "      <th>DEWP</th>\n",
       "      <th>TEMP</th>\n",
       "      <th>PRES</th>\n",
       "      <th>Iws</th>\n",
       "      <th>Is</th>\n",
       "      <th>Ir</th>\n",
       "      <th>DateTime</th>\n",
       "    </tr>\n",
       "  </thead>\n",
       "  <tbody>\n",
       "    <tr>\n",
       "      <th>pollution</th>\n",
       "      <td>1.000000</td>\n",
       "      <td>0.264816</td>\n",
       "      <td>0.019230</td>\n",
       "      <td>-0.138644</td>\n",
       "      <td>-0.256369</td>\n",
       "      <td>0.022872</td>\n",
       "      <td>-0.046406</td>\n",
       "      <td>-0.047136</td>\n",
       "    </tr>\n",
       "    <tr>\n",
       "      <th>DEWP</th>\n",
       "      <td>0.264816</td>\n",
       "      <td>1.000000</td>\n",
       "      <td>0.827722</td>\n",
       "      <td>-0.782181</td>\n",
       "      <td>-0.303421</td>\n",
       "      <td>-0.033901</td>\n",
       "      <td>0.125221</td>\n",
       "      <td>0.054822</td>\n",
       "    </tr>\n",
       "    <tr>\n",
       "      <th>TEMP</th>\n",
       "      <td>0.019230</td>\n",
       "      <td>0.827722</td>\n",
       "      <td>1.000000</td>\n",
       "      <td>-0.830913</td>\n",
       "      <td>-0.172675</td>\n",
       "      <td>-0.093064</td>\n",
       "      <td>0.045779</td>\n",
       "      <td>0.090853</td>\n",
       "    </tr>\n",
       "    <tr>\n",
       "      <th>PRES</th>\n",
       "      <td>-0.138644</td>\n",
       "      <td>-0.782181</td>\n",
       "      <td>-0.830913</td>\n",
       "      <td>1.000000</td>\n",
       "      <td>0.196201</td>\n",
       "      <td>0.068636</td>\n",
       "      <td>-0.078797</td>\n",
       "      <td>-0.036756</td>\n",
       "    </tr>\n",
       "    <tr>\n",
       "      <th>Iws</th>\n",
       "      <td>-0.256369</td>\n",
       "      <td>-0.303421</td>\n",
       "      <td>-0.172675</td>\n",
       "      <td>0.196201</td>\n",
       "      <td>1.000000</td>\n",
       "      <td>0.022398</td>\n",
       "      <td>-0.012442</td>\n",
       "      <td>-0.061109</td>\n",
       "    </tr>\n",
       "    <tr>\n",
       "      <th>Is</th>\n",
       "      <td>0.022872</td>\n",
       "      <td>-0.033901</td>\n",
       "      <td>-0.093064</td>\n",
       "      <td>0.068636</td>\n",
       "      <td>0.022398</td>\n",
       "      <td>1.000000</td>\n",
       "      <td>-0.009516</td>\n",
       "      <td>-0.031405</td>\n",
       "    </tr>\n",
       "    <tr>\n",
       "      <th>Ir</th>\n",
       "      <td>-0.046406</td>\n",
       "      <td>0.125221</td>\n",
       "      <td>0.045779</td>\n",
       "      <td>-0.078797</td>\n",
       "      <td>-0.012442</td>\n",
       "      <td>-0.009516</td>\n",
       "      <td>1.000000</td>\n",
       "      <td>-0.015034</td>\n",
       "    </tr>\n",
       "    <tr>\n",
       "      <th>DateTime</th>\n",
       "      <td>-0.047136</td>\n",
       "      <td>0.054822</td>\n",
       "      <td>0.090853</td>\n",
       "      <td>-0.036756</td>\n",
       "      <td>-0.061109</td>\n",
       "      <td>-0.031405</td>\n",
       "      <td>-0.015034</td>\n",
       "      <td>1.000000</td>\n",
       "    </tr>\n",
       "  </tbody>\n",
       "</table>\n",
       "</div>"
      ],
      "text/plain": [
       "           pollution      DEWP      TEMP      PRES       Iws        Is  \\\n",
       "pollution   1.000000  0.264816  0.019230 -0.138644 -0.256369  0.022872   \n",
       "DEWP        0.264816  1.000000  0.827722 -0.782181 -0.303421 -0.033901   \n",
       "TEMP        0.019230  0.827722  1.000000 -0.830913 -0.172675 -0.093064   \n",
       "PRES       -0.138644 -0.782181 -0.830913  1.000000  0.196201  0.068636   \n",
       "Iws        -0.256369 -0.303421 -0.172675  0.196201  1.000000  0.022398   \n",
       "Is          0.022872 -0.033901 -0.093064  0.068636  0.022398  1.000000   \n",
       "Ir         -0.046406  0.125221  0.045779 -0.078797 -0.012442 -0.009516   \n",
       "DateTime   -0.047136  0.054822  0.090853 -0.036756 -0.061109 -0.031405   \n",
       "\n",
       "                 Ir  DateTime  \n",
       "pollution -0.046406 -0.047136  \n",
       "DEWP       0.125221  0.054822  \n",
       "TEMP       0.045779  0.090853  \n",
       "PRES      -0.078797 -0.036756  \n",
       "Iws       -0.012442 -0.061109  \n",
       "Is        -0.009516 -0.031405  \n",
       "Ir         1.000000 -0.015034  \n",
       "DateTime  -0.015034  1.000000  "
      ]
     },
     "execution_count": 109,
     "metadata": {},
     "output_type": "execute_result"
    }
   ],
   "source": [
    "plt.figure(figsize=(8,4))\n",
    "sns.heatmap(df_new.corr(), cmap='RdYlGn_r',annot=True)\n",
    "plt.title('Heatmap showing Correlations',size=15)\n",
    "plt.show()\n",
    "\n",
    "df_new.corr()"
   ]
  },
  {
   "cell_type": "markdown",
   "metadata": {},
   "source": [
    "- TEMP is highly correlated with PRES and DEWP as the correlation coefficient is more than 0.8. So removing TEMP. Also removing PRES since it is also highly correlated with DEWP. "
   ]
  },
  {
   "cell_type": "code",
   "execution_count": 110,
   "metadata": {},
   "outputs": [
    {
     "name": "stderr",
     "output_type": "stream",
     "text": [
      "/home/sidney/anaconda3/lib/python3.7/site-packages/pandas/core/frame.py:3997: SettingWithCopyWarning: \n",
      "A value is trying to be set on a copy of a slice from a DataFrame\n",
      "\n",
      "See the caveats in the documentation: https://pandas.pydata.org/pandas-docs/stable/user_guide/indexing.html#returning-a-view-versus-a-copy\n",
      "  errors=errors,\n"
     ]
    },
    {
     "name": "stdout",
     "output_type": "stream",
     "text": [
      "   pollution  DEWP cbwd    Iws  Is  Ir    DateTime\n",
      "0  98.613215   -21   NW   1.79   0   0  1262304000\n",
      "1  98.613215   -21   NW   4.92   0   0  1262307600\n",
      "2  98.613215   -21   NW   6.71   0   0  1262311200\n",
      "3  98.613215   -21   NW   9.84   0   0  1262314800\n",
      "4  98.613215   -20   NW  12.97   0   0  1262318400\n"
     ]
    },
    {
     "data": {
      "image/png": "[encoded data removed]",
      "text/plain": [
       "<Figure size 576x288 with 2 Axes>"
      ]
     },
     "metadata": {
      "needs_background": "light"
     },
     "output_type": "display_data"
    }
   ],
   "source": [
    "try:\n",
    "  df_new.drop(['TEMP','PRES'],axis = 1,inplace= True)\n",
    "except:\n",
    "  print('Already Dropped')\n",
    "print(df_new.head())\n",
    "\n",
    "plt.figure(figsize=(8,4))\n",
    "sns.heatmap(df_new.corr(), cmap='RdYlGn_r',annot=True)\n",
    "plt.title('Heatmap showing Correlations',size=15)\n",
    "plt.show() "
   ]
  },
  {
   "cell_type": "markdown",
   "metadata": {},
   "source": [
    "### Split Dataset into training and test data \n",
    "- To generate it sequentially as time is important, we kept 'Shuffle=False'"
   ]
  },
  {
   "cell_type": "code",
   "execution_count": 138,
   "metadata": {},
   "outputs": [
    {
     "data": {
      "text/plain": [
       "((33365, 5), (33365,), (8342, 5), (8342,))"
      ]
     },
     "execution_count": 138,
     "metadata": {},
     "output_type": "execute_result"
    }
   ],
   "source": [
    "from sklearn.model_selection import train_test_split\n",
    "\n",
    "# input columns\n",
    "X=df_new[['DateTime', 'DEWP','Iws','Is','Ir']]\n",
    "\n",
    "# X = df.drop(['pm2.5'], axis=1) or use this easily\n",
    "# Column to predict-output\n",
    "y=df_new['pollution']\n",
    "\n",
    "X_train, X_test, y_train, y_test = train_test_split(X, y, test_size=0.2,random_state=42,shuffle= False)\n",
    "\n",
    "X_train.shape,y_train.shape,X_test.shape,y_test.shape"
   ]
  },
  {
   "cell_type": "markdown",
   "metadata": {},
   "source": [
    "# 3- Machine Learninig Model"
   ]
  },
  {
   "cell_type": "markdown",
   "metadata": {},
   "source": [
    "### Feature scaling\n",
    "- The ColumnTransformer is a class in the scikit-learn Python machine learning library that allows you to selectively apply data preparation transforms. Using the ColumnTransformer to selectively apply data transforms to columns in a dataset with mixed data types.\n",
    "- Many machine learning algorithms perform better when numerical input variables are scaled to a standard range.  To standardizing the numerical features we use MinMaxScaler. Which is used which transforms the data in the range between 0 and 1."
   ]
  },
  {
   "cell_type": "code",
   "execution_count": 112,
   "metadata": {},
   "outputs": [
    {
     "name": "stdout",
     "output_type": "stream",
     "text": [
      "(33365, 4)\n",
      "(8342, 4)\n"
     ]
    }
   ],
   "source": [
    "from sklearn.compose import ColumnTransformer\n",
    "from sklearn.preprocessing import MinMaxScaler\n",
    "\n",
    "num_attr = [\"DEWP\",\"Is\",\"Ir\",\"Iws\"]\n",
    "\n",
    "\n",
    "full_pipeline = ColumnTransformer([\n",
    " (\"num\", MinMaxScaler(), num_attr),\n",
    " ])\n",
    "\n",
    "# Sequences of different transforms can also be chained together using the Pipeline, such as \n",
    "# imputing missing values, then scaling numerical values.\n",
    "X_train_tr = full_pipeline.fit_transform(X_train)\n",
    "X_test_tr = full_pipeline.transform(X_test)\n",
    "\n",
    "print(X_train_tr.shape)\n",
    "print(X_test_tr.shape)"
   ]
  },
  {
   "cell_type": "markdown",
   "metadata": {},
   "source": [
    "## A- SGD Regression\n",
    "\n",
    "- SGD stands for Stochastic Gradient Descent: the gradient of the loss is estimated each sample at a time and the model is updated along the way with a decreasing strength schedule (aka learning rate).\n",
    "- Stochastic Gradient Descent (SGD) regressor implements a plain SGD learning routine supporting various loss functions and penalties to fit linear regression models."
   ]
  },
  {
   "cell_type": "code",
   "execution_count": 113,
   "metadata": {},
   "outputs": [],
   "source": [
    "#Building a stochastic gradient descent regressor and training the model\n",
    "from sklearn.linear_model import SGDRegressor\n",
    "sgd = SGDRegressor(random_state=42)\n",
    "sgd.fit(X_train_tr, y_train)\n",
    "y_pred_train = sgd.predict(X_train_tr)"
   ]
  },
  {
   "cell_type": "code",
   "execution_count": 114,
   "metadata": {},
   "outputs": [
    {
     "name": "stdout",
     "output_type": "stream",
     "text": [
      "Root Mean Square Error for training set is  61.4519916955696\n",
      "\n",
      "Root Mean Square Error for test set is  62.78536330150622\n",
      "\n",
      "Mean Absolute Error for training set is  48.40794713999097\n",
      "\n",
      "Mean Absolute Error for test set is  50.61857158498955\n",
      "\n",
      "R-squared for training set is  0.12479636174732467\n",
      "\n",
      "R-squared for test set is  0.037114832446998314\n"
     ]
    }
   ],
   "source": [
    "#Predicting using model and evaluating model using RMSE, MAE and R-squared\n",
    "# Unlike MAE, RMSE is more punishing of forecast errors.\n",
    "\n",
    "from sklearn.metrics import mean_squared_error, mean_absolute_error\n",
    "\n",
    "y_pred_test = sgd.predict(X_test_tr)\n",
    "\n",
    "Mse_train = mean_squared_error(y_train, y_pred_train)\n",
    "Rmse_train = np.sqrt(Mse_train)\n",
    "print(\"Root Mean Square Error for training set is \",Rmse_train)\n",
    "\n",
    "Mse_test = mean_squared_error(y_test, y_pred_test)\n",
    "Rmse_test = np.sqrt(Mse_test)\n",
    "print(\"\\nRoot Mean Square Error for test set is \",Rmse_test)\n",
    "\n",
    "Mae_train = mean_absolute_error(y_train, y_pred_train)\n",
    "Mae_test = mean_absolute_error(y_test, y_pred_test)\n",
    "print(\"\\nMean Absolute Error for training set is \",Mae_train)\n",
    "print(\"\\nMean Absolute Error for test set is \",Mae_test)\n",
    "\n",
    "r_squared_train = sgd.score(X_train_tr, y_train)\n",
    "r_squared_test = sgd.score(X_test_tr, y_test)\n",
    "print(\"\\nR-squared for training set is \",r_squared_train)\n",
    "print(\"\\nR-squared for test set is \",r_squared_test)"
   ]
  },
  {
   "cell_type": "markdown",
   "metadata": {},
   "source": [
    "### RandomizedSearch\n",
    "- searches for the specific subset of data in a random manner, instead of searching continuously (like how GridSearch does). This reduces the processing time of the hyperparameters. The scikit-learn module has RandomizedSearchCV function that can be used to implement random search. The hyperparameters are defined before searching them. \n",
    "- The evaluation metrics used to evaluate the model are Root Mean Square Error, Mean Absolute Error and R-squared. I am using these metrics because these are suitable to be used for regression models. R-Square measures how much of variability in dependent variable is being explained by the model. RMSE and MAE are different ways to measure the error of a model. "
   ]
  },
  {
   "cell_type": "code",
   "execution_count": 115,
   "metadata": {},
   "outputs": [
    {
     "name": "stdout",
     "output_type": "stream",
     "text": [
      "The Different hyperparameters in SGDRegressor along with their current values are:\n",
      "\n",
      " {'alpha': 0.0001, 'average': False, 'early_stopping': False, 'epsilon': 0.1, 'eta0': 0.01, 'fit_intercept': True, 'l1_ratio': 0.15, 'learning_rate': 'invscaling', 'loss': 'squared_loss', 'max_iter': 1000, 'n_iter_no_change': 5, 'penalty': 'l2', 'power_t': 0.25, 'random_state': 42, 'shuffle': True, 'tol': 0.001, 'validation_fraction': 0.1, 'verbose': 0, 'warm_start': False}\n",
      " \n",
      "Results from Randomized Search:\n",
      "\n",
      "Best Score: 0.11358459485339138\n",
      "\n",
      "Best Hyperparameters: {'penalty': 'l2', 'loss': 'squared_loss', 'learning_rate': 'adaptive', 'eta0': 0.1, 'average': False, 'alpha': 0.001}\n"
     ]
    }
   ],
   "source": [
    "#Hyper-parameters tuning in SGD using RandomizedSearchCV\n",
    "\n",
    "from sklearn.model_selection import RandomizedSearchCV\n",
    "\n",
    "print(\"The Different hyperparameters in SGDRegressor along with their current values are:\\n\\n\",sgd.get_params())\n",
    "\n",
    "parameters = {'average': [True, False],\n",
    "              'alpha':[0.0001, 0.001, 0.01, 0.1,],\n",
    "              'loss': ['squared_loss','huber'],\n",
    "              'learning_rate': ['constant', 'invscaling', 'adaptive'],\n",
    "              'penalty':['l1', 'l2', 'elasticnet'],\n",
    "              'eta0':[0.001,0.01,0.1]\n",
    "             }\n",
    "\n",
    "search = RandomizedSearchCV(estimator=sgd, param_distributions = parameters, cv = 3, n_iter = 10, n_jobs=-1)\n",
    "\n",
    "result = search.fit(X_train_tr, y_train)\n",
    "\n",
    "# summarize result\n",
    "print(\" \\nResults from Randomized Search:\\n\" )\n",
    "print('Best Score: %s' % result.best_score_)\n",
    "print('\\nBest Hyperparameters: %s' % result.best_params_)"
   ]
  },
  {
   "cell_type": "markdown",
   "metadata": {},
   "source": [
    "- Above mentioned are the different hyper-parameters in SGDRegressor which can be changed to fine tune the model. Out of all these parameters We are tuning the parameters average, alpha, loss, learning_rate, penalty, eta0 and max_iterations. \n",
    "- We have used RandomizedSearchCV to find out the best parameter values as suited for the model. The best hyperparameters value returned by RandomizedSearchCV are mentioned in the output above.  We have run the model specifying these best hyper-parameter values in the below block of code."
   ]
  },
  {
   "cell_type": "code",
   "execution_count": 135,
   "metadata": {},
   "outputs": [
    {
     "name": "stdout",
     "output_type": "stream",
     "text": [
      "Root Mean Square Error for training set is  61.462007389694\n",
      "\n",
      "Root Mean Square Error for test set is  89.64354760555439\n",
      "\n",
      "Mean Absolute Error for training set is  48.31128930256208\n",
      "\n",
      "Mean Absolute Error for test set is  87.27265117262898\n",
      "\n",
      "R-squared for training set is  0.12451105004184872\n",
      "\n",
      "R-squared for test set is  -154990.67933381512\n"
     ]
    }
   ],
   "source": [
    "sgd = SGDRegressor(random_state=42, alpha= 0.001, average=False, learning_rate= 'invscaling',\n",
    "                   max_iter=5000, eta0=0.001, loss= 'squared_loss',penalty= 'l1')\n",
    "sgd.fit(X_train_tr, y_train)\n",
    "y_pred_train = sgd.predict(X_train_tr)\n",
    "y_pred = sgd.predict(X_test_tr)\n",
    "\n",
    "Mse_train = mean_squared_error(y_train, y_pred_train)\n",
    "Rmse_train = np.sqrt(Mse_train)\n",
    "print(\"Root Mean Square Error for training set is \",Rmse_train)\n",
    "\n",
    "Mse_test = mean_squared_error(y_test, y_pred)\n",
    "Rmse_test = np.sqrt(Mse_test)\n",
    "print(\"\\nRoot Mean Square Error for test set is \",Rmse_test)\n",
    "\n",
    "Mae_train = mean_absolute_error(y_train, y_pred_train)\n",
    "Mae_test = mean_absolute_error(y_test, y_pred)\n",
    "print(\"\\nMean Absolute Error for training set is \",Mae_train)\n",
    "print(\"\\nMean Absolute Error for test set is \",Mae_test)\n",
    "\n",
    "r_squared_train = sgd.score(X_train_tr, y_train)\n",
    "r_squared_test = sgd.score(X_test_tr, y_test)\n",
    "print(\"\\nR-squared for training set is \",r_squared_train)\n",
    "print(\"\\nR-squared for test set is \",r_squared_test)"
   ]
  },
  {
   "cell_type": "markdown",
   "metadata": {},
   "source": [
    "### Normalise the value between 0 and 1. Then  ploting the graph"
   ]
  },
  {
   "cell_type": "code",
   "execution_count": 137,
   "metadata": {},
   "outputs": [
    {
     "data": {
      "image/png": "[encoded data removed]",
      "text/plain": [
       "<Figure size 432x288 with 1 Axes>"
      ]
     },
     "metadata": {
      "needs_background": "light"
     },
     "output_type": "display_data"
    }
   ],
   "source": [
    "y_test= (y_test-min(y_test))/(max(y_test)-min(y_test))\n",
    "y_pred=  (y_pred-min(y_pred))/(max(y_pred)-min(y_pred))\n",
    "\n",
    "plt.plot(np.array(y_test[:200]),label='Truth Value')\n",
    "plt.plot(np.array(y_pred[:200]),label='Prediction')\n",
    "plt.legend()\n",
    "plt.show()"
   ]
  },
  {
   "cell_type": "markdown",
   "metadata": {},
   "source": [
    "## B- XGBoost Regression\n",
    "\n",
    "- XGBoost is a powerful machine learning algorithm especially where speed and accuracy are concerned\n",
    "- It is a powerful approach for building supervised regression models . The validity of this statement can be inferred by knowing about its (XGBoost) objective function and base learners.\n",
    "- We need to consider different parameters and their values to be specified while implementing an XGBoost model\n",
    "- The XGBoost model requires parameter tuning to improve and fully leverage its advantages over other algorithms"
   ]
  },
  {
   "cell_type": "code",
   "execution_count": 139,
   "metadata": {},
   "outputs": [
    {
     "name": "stdout",
     "output_type": "stream",
     "text": [
      "1.4.1\n",
      "Mean MAE: 16.617 (0.218)\n"
     ]
    }
   ],
   "source": [
    "#Building a xgboost regressor and training the model\n",
    "# check xgboost version\n",
    "import xgboost\n",
    "print(xgboost.__version__)\n",
    "\n",
    "from xgboost import XGBRegressor\n",
    "from numpy import absolute\n",
    "from sklearn.model_selection import cross_val_score\n",
    "from sklearn.model_selection import RepeatedKFold\n",
    "\n",
    "# create an xgboost regression model\n",
    "xbr = XGBRegressor(n_estimators=1000, max_depth=7, eta=0.1, subsample=0.7, colsample_bytree=0.8)\n",
    "\n",
    "\"\"\"# fit model\n",
    "xbr.fit(X_train_tr, y_train)\n",
    "\n",
    "# make a prediction\n",
    "y_pred_train = xbr.predict(X_train_tr)\n",
    "\n",
    "# summarize prediction\n",
    "y_pred_train\"\"\"\n",
    "\n",
    "# define model evaluation method\n",
    "cv = RepeatedKFold(n_splits=10, n_repeats=3, random_state=1)\n",
    "# evaluate model\n",
    "scores = cross_val_score(xbr, X, y, scoring='neg_mean_absolute_error', cv=cv, n_jobs=-1)\n",
    "# force scores to be positive\n",
    "scores = absolute(scores)\n",
    "print('Mean MAE: %.3f (%.3f)' % (scores.mean(), scores.std()) )"
   ]
  },
  {
   "cell_type": "code",
   "execution_count": 140,
   "metadata": {},
   "outputs": [
    {
     "name": "stdout",
     "output_type": "stream",
     "text": [
      "The Different hyperparameters in XGBRegressor along with their current values are:\n",
      "\n",
      " {'objective': 'reg:squarederror', 'base_score': None, 'booster': None, 'colsample_bylevel': None, 'colsample_bynode': None, 'colsample_bytree': 0.8, 'gamma': None, 'gpu_id': None, 'importance_type': 'gain', 'interaction_constraints': None, 'learning_rate': None, 'max_delta_step': None, 'max_depth': 7, 'min_child_weight': None, 'missing': nan, 'monotone_constraints': None, 'n_estimators': 1000, 'n_jobs': None, 'num_parallel_tree': None, 'random_state': None, 'reg_alpha': None, 'reg_lambda': None, 'scale_pos_weight': None, 'subsample': 0.7, 'tree_method': None, 'validate_parameters': None, 'verbosity': None, 'eta': 0.1}\n",
      " \n",
      "Results from Randomized Search:\n",
      "\n",
      "Best Score: 0.19230293867703485\n",
      "\n",
      "Best Hyperparameters: {'colsample_bytree': 0.9825377177642116, 'gamma': 7.1275993852648964, 'learning_rate': 0.4335292452695875, 'max_depth': 3, 'min_child_weight': 194.79172089224562, 'n_estimators': 28, 'reg_alpha': 64.77844373759137, 'subsample': 0.9745238093573462}\n"
     ]
    }
   ],
   "source": [
    "#Hyper-parameters tuning in XGBRegressor using RandomizedSearchCV\n",
    "from sklearn.model_selection import RandomizedSearchCV\n",
    "import scipy.stats as st\n",
    "\n",
    "print(\"The Different hyperparameters in XGBRegressor along with their current values are:\\n\\n\",xbr.get_params())\n",
    "\n",
    "one_to_left = st.beta(10, 1)  \n",
    "from_zero_positive = st.expon(0, 50)\n",
    "\n",
    "parameters = {  \n",
    "    \"n_estimators\": st.randint(3, 40),\n",
    "    \"max_depth\": st.randint(3, 40),\n",
    "    \"learning_rate\": st.uniform(0.05, 0.4),\n",
    "    \"colsample_bytree\": one_to_left,\n",
    "    \"subsample\": one_to_left,\n",
    "    \"gamma\": st.uniform(0, 10),\n",
    "    'reg_alpha': from_zero_positive,\n",
    "    \"min_child_weight\": from_zero_positive,\n",
    "}\n",
    "\n",
    "\n",
    "search = RandomizedSearchCV(estimator=xbr, param_distributions = parameters, cv = 3, n_iter = 10, n_jobs=-1)\n",
    "\n",
    "result = search.fit(X_train_tr, y_train)\n",
    "\n",
    "# summarize result\n",
    "print(\" \\nResults from Randomized Search:\\n\" )\n",
    "print('Best Score: %s' % result.best_score_)\n",
    "print('\\nBest Hyperparameters: %s' % result.best_params_)\n"
   ]
  },
  {
   "cell_type": "code",
   "execution_count": 61,
   "metadata": {},
   "outputs": [
    {
     "name": "stdout",
     "output_type": "stream",
     "text": [
      "Root Mean Square Error for training set is  53.33518901033372\n",
      "\n",
      "Root Mean Square Error for test set is  59.54816653438189\n",
      "\n",
      "Mean Absolute Error for training set is  38.79384517060758\n",
      "\n",
      "Mean Absolute Error for test set is  45.86504908331769\n",
      "\n",
      "R-squared for training set is  0.34072764509702813\n",
      "\n",
      "R-squared for test set is  0.13384730276191026\n"
     ]
    },
    {
     "name": "stderr",
     "output_type": "stream",
     "text": [
      "/home/sidney/anaconda3/lib/python3.7/site-packages/xgboost/data.py:114: UserWarning: Use subset (sliced data) of np.ndarray is not recommended because it will generate extra copies and increase memory consumption\n",
      "  \"because it will generate extra copies and increase \" +\n",
      "/home/sidney/anaconda3/lib/python3.7/site-packages/xgboost/data.py:114: UserWarning: Use subset (sliced data) of np.ndarray is not recommended because it will generate extra copies and increase memory consumption\n",
      "  \"because it will generate extra copies and increase \" +\n",
      "/home/sidney/anaconda3/lib/python3.7/site-packages/xgboost/data.py:114: UserWarning: Use subset (sliced data) of np.ndarray is not recommended because it will generate extra copies and increase memory consumption\n",
      "  \"because it will generate extra copies and increase \" +\n"
     ]
    }
   ],
   "source": [
    "# create an xgboost regression model\n",
    "xbr = XGBRegressor(n_estimators=22, max_depth=29, eta=0.1, subsample=0.7, colsample_bytree=0.8)\n",
    "\n",
    "xbr.fit(X_train_tr, y_train)\n",
    "y_pred_train = xbr.predict(X_train_tr)\n",
    "y_pred = xbr.predict(X_test_tr)\n",
    "\n",
    "Mse_train = mean_squared_error(y_train, y_pred_train)\n",
    "Rmse_train = np.sqrt(Mse_train)\n",
    "print(\"Root Mean Square Error for training set is \",Rmse_train)\n",
    "\n",
    "Mse_test = mean_squared_error(y_test, y_pred)\n",
    "Rmse_test = np.sqrt(Mse_test)\n",
    "print(\"\\nRoot Mean Square Error for test set is \",Rmse_test)\n",
    "\n",
    "Mae_train = mean_absolute_error(y_train, y_pred_train)\n",
    "Mae_test = mean_absolute_error(y_test, y_pred)\n",
    "print(\"\\nMean Absolute Error for training set is \",Mae_train)\n",
    "print(\"\\nMean Absolute Error for test set is \",Mae_test)\n",
    "\n",
    "r_squared_train = xbr.score(X_train_tr, y_train)\n",
    "r_squared_test = xbr.score(X_test_tr, y_test)\n",
    "print(\"\\nR-squared for training set is \",r_squared_train)\n",
    "print(\"\\nR-squared for test set is \",r_squared_test)"
   ]
  },
  {
   "cell_type": "markdown",
   "metadata": {},
   "source": [
    "### Normalise the value between 0 and 1. Then  ploting the graph"
   ]
  },
  {
   "cell_type": "code",
   "execution_count": 62,
   "metadata": {},
   "outputs": [
    {
     "data": {
      "image/png": "[encoded data removed]",
      "text/plain": [
       "<Figure size 432x288 with 1 Axes>"
      ]
     },
     "metadata": {
      "needs_background": "light"
     },
     "output_type": "display_data"
    }
   ],
   "source": [
    "y_test= (y_test-min(y_test))/(max(y_test)-min(y_test))\n",
    "y_pred=  (y_pred-min(y_pred))/(max(y_pred)-min(y_pred))\n",
    "\n",
    "plt.plot(np.array(y_test[:200]),label='Truth Value')\n",
    "plt.plot(np.array(y_pred[:200]),label='Prediction')\n",
    "plt.legend()\n",
    "plt.show()"
   ]
  },
  {
   "cell_type": "markdown",
   "metadata": {},
   "source": [
    "# 4- Deep Learning Model"
   ]
  },
  {
   "cell_type": "markdown",
   "metadata": {},
   "source": [
    "### Feature scaling\n",
    "- This is done to transform raw data into a standardized dataset so that so that they fall in a specific range of values. MinMaxScaler is used which transforms the data in the range between 0 and 1."
   ]
  },
  {
   "cell_type": "code",
   "execution_count": 63,
   "metadata": {},
   "outputs": [],
   "source": [
    "from sklearn.preprocessing import MinMaxScaler\n",
    "\n",
    "scaler_X = MinMaxScaler()\n",
    "X_train_scaled = scaler_X.fit_transform(X_train)\n",
    "X_test_scaled = scaler_X.transform(X_test)"
   ]
  },
  {
   "cell_type": "code",
   "execution_count": 64,
   "metadata": {},
   "outputs": [
    {
     "name": "stdout",
     "output_type": "stream",
     "text": [
      "\n",
      "Feature Variance:\n",
      "\n",
      "[0.55724294 0.37889551 0.0468239  0.01158177 0.00545588]\n",
      "\n",
      "Cumulative Feature Variance:\n",
      "\n",
      "[0.55724294 0.93613845 0.98296235 0.99454412 1.        ]\n"
     ]
    },
    {
     "data": {
      "image/png": "[encoded data removed]",
      "text/plain": [
       "<Figure size 432x288 with 1 Axes>"
      ]
     },
     "metadata": {
      "needs_background": "light"
     },
     "output_type": "display_data"
    }
   ],
   "source": [
    "from sklearn.decomposition import PCA\n",
    "\n",
    "# Finding optimal number of components for dimensionality reduction\n",
    "pca = PCA(n_components=None)\n",
    "pca.fit(X_train_scaled)\n",
    "feature_variance = pca.explained_variance_ratio_\n",
    "total_variance = np.cumsum(feature_variance)  # cumulative sum\n",
    "\n",
    "print('\\nFeature Variance:\\n')\n",
    "print(feature_variance)\n",
    "print('\\nCumulative Feature Variance:\\n')\n",
    "print(total_variance)\n",
    "\n",
    "plt.plot(total_variance)\n",
    "plt.title('PCA Components vs. Variance')\n",
    "plt.xlabel('Number of Components')\n",
    "plt.ylabel('Cumulative Variance')\n",
    "plt.show()"
   ]
  },
  {
   "cell_type": "code",
   "execution_count": 65,
   "metadata": {},
   "outputs": [],
   "source": [
    "# Selecting 6 Components\n",
    "pca_X = PCA(n_components=4)\n",
    "X_train_pca = pca_X.fit_transform(X_train_scaled)\n",
    "X_test_pca = pca_X.transform(X_test_scaled)"
   ]
  },
  {
   "cell_type": "code",
   "execution_count": 66,
   "metadata": {},
   "outputs": [],
   "source": [
    "pca_columns = ['PCA1', 'PCA2', 'PCA3', 'PCA4']\n",
    "X_train_pca = pd.DataFrame(X_train_pca, columns=pca_columns)\n",
    "X_test_pca = pd.DataFrame(X_test_pca, columns=pca_columns)"
   ]
  },
  {
   "cell_type": "code",
   "execution_count": 67,
   "metadata": {},
   "outputs": [
    {
     "name": "stdout",
     "output_type": "stream",
     "text": [
      "(33365, 4, 1)\n",
      "(8342, 4, 1)\n"
     ]
    }
   ],
   "source": [
    "X_train_lstm = np.array(X_train_pca) #X_train_scaled\n",
    "X_train_lstm = X_train_lstm[:, :, None]\n",
    "print(X_train_lstm.shape)\n",
    "X_test_lstm = np.array(X_test_pca)#X_test_scaled\n",
    "X_test_lstm = X_test_lstm[:, :, None]\n",
    "print(X_test_lstm.shape)"
   ]
  },
  {
   "cell_type": "code",
   "execution_count": 68,
   "metadata": {},
   "outputs": [],
   "source": [
    "#!pip install keras-tuner\n",
    "\n",
    "import pickle\n",
    "import tensorflow\n",
    "from tensorflow import keras\n",
    "from tensorflow.keras.layers import LSTM, Dense, Dropout\n",
    "\n",
    "import kerastuner\n",
    "from kerastuner.tuners.bayesian import BayesianOptimization\n",
    "from kerastuner.tuners.randomsearch import RandomSearch\n",
    "\n",
    "from sklearn.model_selection import RandomizedSearchCV"
   ]
  },
  {
   "cell_type": "code",
   "execution_count": 69,
   "metadata": {},
   "outputs": [],
   "source": [
    "# vanilla lstm model\n",
    "def lstm_model():\n",
    "    model = keras.Sequential()\n",
    "    model.add(LSTM(units=64, return_sequences=True, input_shape=(X_train_lstm.shape[1], 1)))\n",
    "    model.add(Dropout(0.4))\n",
    "    model.add(LSTM(units=16))\n",
    "    model.add(Dropout(0.4))\n",
    "    model.add(Dense(units=8))\n",
    "    model.add(Dropout(0.4))\n",
    "    model.add(Dense(units=1))\n",
    "    model.compile(optimizer='adam', loss = 'mse',metrics=['mae', 'mse'])\n",
    "    return model"
   ]
  },
  {
   "cell_type": "code",
   "execution_count": 70,
   "metadata": {},
   "outputs": [],
   "source": [
    "from keras.wrappers.scikit_learn import KerasRegressor\n",
    "\n",
    "regressor = KerasRegressor(build_fn=lstm_model, batch_size=64, epochs=30)"
   ]
  },
  {
   "cell_type": "code",
   "execution_count": 71,
   "metadata": {},
   "outputs": [
    {
     "name": "stdout",
     "output_type": "stream",
     "text": [
      "Epoch 1/30\n",
      "522/522 [==============================] - 2s 4ms/step - loss: 7261.3447 - mae: 63.4105 - mse: 7261.3447\n",
      "Epoch 2/30\n",
      "522/522 [==============================] - 2s 4ms/step - loss: 5130.7720 - mae: 56.0137 - mse: 5130.7720\n",
      "Epoch 3/30\n",
      "522/522 [==============================] - 2s 4ms/step - loss: 4834.3042 - mae: 53.2751 - mse: 4834.3042\n",
      "Epoch 4/30\n",
      "522/522 [==============================] - 2s 4ms/step - loss: 4597.6973 - mae: 51.3085 - mse: 4597.6973\n",
      "Epoch 5/30\n",
      "522/522 [==============================] - 2s 4ms/step - loss: 4553.6387 - mae: 50.8799 - mse: 4553.6387\n",
      "Epoch 6/30\n",
      "522/522 [==============================] - 2s 4ms/step - loss: 4511.4146 - mae: 50.6882 - mse: 4511.4146\n",
      "Epoch 7/30\n",
      "522/522 [==============================] - 2s 4ms/step - loss: 4492.7881 - mae: 50.4971 - mse: 4492.7881\n",
      "Epoch 8/30\n",
      "522/522 [==============================] - 2s 4ms/step - loss: 4457.0776 - mae: 50.2220 - mse: 4457.0776\n",
      "Epoch 9/30\n",
      "522/522 [==============================] - 2s 4ms/step - loss: 4413.6885 - mae: 49.8954 - mse: 4413.6885\n",
      "Epoch 10/30\n",
      "522/522 [==============================] - 2s 4ms/step - loss: 4415.9062 - mae: 49.7853 - mse: 4415.9062\n",
      "Epoch 11/30\n",
      "522/522 [==============================] - 2s 4ms/step - loss: 4384.5225 - mae: 49.8194 - mse: 4384.5225\n",
      "Epoch 12/30\n",
      "522/522 [==============================] - 2s 4ms/step - loss: 4352.1377 - mae: 49.5799 - mse: 4352.1377\n",
      "Epoch 13/30\n",
      "522/522 [==============================] - 2s 4ms/step - loss: 4293.3423 - mae: 49.2616 - mse: 4293.3423\n",
      "Epoch 14/30\n",
      "522/522 [==============================] - 2s 4ms/step - loss: 4263.9590 - mae: 49.0894 - mse: 4263.9590\n",
      "Epoch 15/30\n",
      "522/522 [==============================] - 2s 4ms/step - loss: 4268.4155 - mae: 49.2780 - mse: 4268.4155\n",
      "Epoch 16/30\n",
      "522/522 [==============================] - 2s 4ms/step - loss: 4255.4561 - mae: 49.1348 - mse: 4255.4561\n",
      "Epoch 17/30\n",
      "522/522 [==============================] - 2s 4ms/step - loss: 4250.9668 - mae: 49.1883 - mse: 4250.9668\n",
      "Epoch 18/30\n",
      "522/522 [==============================] - 2s 4ms/step - loss: 4186.8555 - mae: 48.8052 - mse: 4186.8555\n",
      "Epoch 19/30\n",
      "522/522 [==============================] - 2s 4ms/step - loss: 4179.5454 - mae: 48.7550 - mse: 4179.5454\n",
      "Epoch 20/30\n",
      "522/522 [==============================] - 2s 4ms/step - loss: 4151.9507 - mae: 48.5748 - mse: 4151.9507\n",
      "Epoch 21/30\n",
      "522/522 [==============================] - 2s 4ms/step - loss: 4144.8701 - mae: 48.5432 - mse: 4144.8701\n",
      "Epoch 22/30\n",
      "522/522 [==============================] - 2s 4ms/step - loss: 4171.1372 - mae: 48.6196 - mse: 4171.1372\n",
      "Epoch 23/30\n",
      "522/522 [==============================] - 2s 4ms/step - loss: 4146.7856 - mae: 48.5939 - mse: 4146.7856\n",
      "Epoch 24/30\n",
      "522/522 [==============================] - 2s 4ms/step - loss: 4122.0933 - mae: 48.4051 - mse: 4122.0933\n",
      "Epoch 25/30\n",
      "522/522 [==============================] - 2s 5ms/step - loss: 4120.8291 - mae: 48.4426 - mse: 4120.8291\n",
      "Epoch 26/30\n",
      "522/522 [==============================] - 2s 4ms/step - loss: 4081.5532 - mae: 48.2482 - mse: 4081.5532\n",
      "Epoch 27/30\n",
      "522/522 [==============================] - 2s 4ms/step - loss: 4062.8406 - mae: 48.1364 - mse: 4062.8406\n",
      "Epoch 28/30\n",
      "522/522 [==============================] - 2s 4ms/step - loss: 4071.0698 - mae: 48.2563 - mse: 4071.0698\n",
      "Epoch 29/30\n",
      "522/522 [==============================] - 2s 4ms/step - loss: 4046.4507 - mae: 48.0504 - mse: 4046.4507\n",
      "Epoch 30/30\n",
      "522/522 [==============================] - 2s 4ms/step - loss: 4059.7830 - mae: 48.2230 - mse: 4059.7830\n"
     ]
    }
   ],
   "source": [
    "results=regressor.fit(X_train_lstm, y_train)"
   ]
  },
  {
   "cell_type": "code",
   "execution_count": 72,
   "metadata": {},
   "outputs": [],
   "source": [
    "from sklearn.metrics import mean_squared_error, mean_absolute_error, r2_score\n",
    "\n",
    "def regression_report(y_true, y_pred):\n",
    "    print(\"mean_squared_error: {}\".format(mean_squared_error(y_true, y_pred)))  # should be close to 0\n",
    "    print(\"mean_absolute_error: {}\".format(mean_absolute_error(y_true, y_pred)))  # should be close to 0\n",
    "    print(\"r2_score: {}\".format(r2_score(y_true, y_pred)))  # should be close to 1"
   ]
  },
  {
   "cell_type": "code",
   "execution_count": 73,
   "metadata": {},
   "outputs": [
    {
     "name": "stdout",
     "output_type": "stream",
     "text": [
      "mean_squared_error: 6267.533062535494\n",
      "mean_absolute_error: 75.73398184392754\n",
      "r2_score: -120882.47806532953\n"
     ]
    }
   ],
   "source": [
    "y_pred = regressor.predict(X_test_lstm)\n",
    "regression_report(y_test, y_pred)"
   ]
  },
  {
   "cell_type": "markdown",
   "metadata": {},
   "source": [
    "### Normalise the value between 0 and 1. Then  ploting the graph"
   ]
  },
  {
   "cell_type": "code",
   "execution_count": 74,
   "metadata": {},
   "outputs": [
    {
     "data": {
      "image/png": "[encoded data removed]",
      "text/plain": [
       "<Figure size 432x288 with 1 Axes>"
      ]
     },
     "metadata": {
      "needs_background": "light"
     },
     "output_type": "display_data"
    }
   ],
   "source": [
    "y_test= (y_test-min(y_test))/(max(y_test)-min(y_test))\n",
    "y_pred=  (y_pred-min(y_pred))/(max(y_pred)-min(y_pred))\n",
    "\n",
    "plt.plot(np.array(y_test[:200]),label='Truth Value')\n",
    "plt.plot(np.array(y_pred[:200]),label='Prediction')\n",
    "plt.legend()\n",
    "plt.show()"
   ]
  },
  {
   "cell_type": "markdown",
   "metadata": {},
   "source": [
    "- As we can see, the deep learning technique needs more data to work well, So we can try to fine tune the data what we have already.\n",
    "- Bayesian Optimization provides a principled technique based on Bayes Theorem to direct a search of a global optimization problem that is efficient and effective.\n",
    "- Hyperparameter tuning is a good fit for Bayesian Optimization because the evaluation function is computationally expensive (e.g. training models for each set of hyperparameters) and noisy (e.g. noise in training data and stochastic learning algorithms). "
   ]
  },
  {
   "cell_type": "code",
   "execution_count": 75,
   "metadata": {},
   "outputs": [],
   "source": [
    "# tune optimizer\n",
    "def tune_model_nn(hp):\n",
    "    model = keras.Sequential()\n",
    "    model.add(LSTM(units=hp.Int('units_start', min_value=8, max_value=128, step=16), \n",
    "                   return_sequences=True, input_shape=(X_train_lstm.shape[1], 1)))\n",
    "    model.add(Dropout(rate=hp.Choice('drop_rate_start', [0.0, 0.1, 0.2, 0.3, 0.4, 0.5])))\n",
    "\n",
    "    for i in range(hp.Int('num_layers', 1, 6)):\n",
    "        model.add(LSTM(units=hp.Int('units_' + str(i), min_value=8, max_value=128, step=16), return_sequences=True))\n",
    "        model.add(Dropout(rate=hp.Choice('drop_rate_' + str(i), [0.0, 0.1, 0.2, 0.3, 0.4, 0.5])))\n",
    "\n",
    "    model.add(LSTM(units=hp.Int('units_end',min_value=8,max_value=128,step=16)))\n",
    "    model.add(Dropout(rate=hp.Choice('drop_rate_end', [0.0, 0.1, 0.2, 0.3, 0.4, 0.5])))\n",
    "    model.add(Dense(units=1))\n",
    "    model.compile(optimizer=keras.optimizers.Adam(hp.Choice('learning_rate', [1e-2, 1e-3, 1e-4])), \n",
    "                  loss = 'mean_squared_error', metrics=['mae', 'mse'])\n",
    "    return model"
   ]
  },
  {
   "cell_type": "code",
   "execution_count": 81,
   "metadata": {},
   "outputs": [
    {
     "name": "stdout",
     "output_type": "stream",
     "text": [
      "Trial 8 Complete [00h 13m 56s]\n",
      "loss: 2451.8072102864585\n",
      "\n",
      "Best loss So Far: 2451.8072102864585\n",
      "Total elapsed time: 02h 16m 39s\n",
      "INFO:tensorflow:Oracle triggered exit\n",
      "Results summary\n",
      "Results in exec_data/lstm_nn\n",
      "Showing 10 best trials\n",
      "Objective(name='loss', direction='min')\n",
      "Trial summary\n",
      "Hyperparameters:\n",
      "units_start: 88\n",
      "drop_rate_start: 0.2\n",
      "num_layers: 1\n",
      "units_0: 88\n",
      "drop_rate_0: 0.0\n",
      "units_end: 56\n",
      "drop_rate_end: 0.3\n",
      "learning_rate: 0.01\n",
      "units_1: 72\n",
      "drop_rate_1: 0.4\n",
      "units_2: 104\n",
      "drop_rate_2: 0.3\n",
      "units_3: 56\n",
      "drop_rate_3: 0.2\n",
      "units_4: 88\n",
      "drop_rate_4: 0.1\n",
      "Score: 2451.8072102864585\n",
      "Trial summary\n",
      "Hyperparameters:\n",
      "units_start: 40\n",
      "drop_rate_start: 0.3\n",
      "num_layers: 3\n",
      "units_0: 104\n",
      "drop_rate_0: 0.1\n",
      "units_end: 72\n",
      "drop_rate_end: 0.2\n",
      "learning_rate: 0.001\n",
      "units_1: 104\n",
      "drop_rate_1: 0.3\n",
      "units_2: 56\n",
      "drop_rate_2: 0.0\n",
      "units_3: 56\n",
      "drop_rate_3: 0.5\n",
      "units_4: 104\n",
      "drop_rate_4: 0.3\n",
      "Score: 3009.0823567708335\n",
      "Trial summary\n",
      "Hyperparameters:\n",
      "units_start: 40\n",
      "drop_rate_start: 0.3\n",
      "num_layers: 3\n",
      "units_0: 104\n",
      "drop_rate_0: 0.1\n",
      "units_end: 72\n",
      "drop_rate_end: 0.2\n",
      "learning_rate: 0.001\n",
      "units_1: 104\n",
      "drop_rate_1: 0.3\n",
      "units_2: 56\n",
      "drop_rate_2: 0.0\n",
      "units_3: 56\n",
      "drop_rate_3: 0.5\n",
      "units_4: 104\n",
      "drop_rate_4: 0.3\n",
      "Score: 3061.3951822916665\n",
      "Trial summary\n",
      "Hyperparameters:\n",
      "units_start: 24\n",
      "drop_rate_start: 0.5\n",
      "num_layers: 2\n",
      "units_0: 72\n",
      "drop_rate_0: 0.5\n",
      "units_end: 56\n",
      "drop_rate_end: 0.4\n",
      "learning_rate: 0.001\n",
      "units_1: 40\n",
      "drop_rate_1: 0.2\n",
      "units_2: 104\n",
      "drop_rate_2: 0.3\n",
      "units_3: 88\n",
      "drop_rate_3: 0.4\n",
      "units_4: 104\n",
      "drop_rate_4: 0.3\n",
      "Score: 3422.8631998697915\n",
      "Trial summary\n",
      "Hyperparameters:\n",
      "units_start: 8\n",
      "drop_rate_start: 0.1\n",
      "num_layers: 3\n",
      "units_0: 88\n",
      "drop_rate_0: 0.3\n",
      "units_end: 88\n",
      "drop_rate_end: 0.0\n",
      "learning_rate: 0.0001\n",
      "units_1: 72\n",
      "drop_rate_1: 0.2\n",
      "units_2: 40\n",
      "drop_rate_2: 0.2\n",
      "units_3: 72\n",
      "drop_rate_3: 0.3\n",
      "units_4: 24\n",
      "drop_rate_4: 0.2\n",
      "Score: 3658.2119954427085\n",
      "Trial summary\n",
      "Hyperparameters:\n",
      "units_start: 8\n",
      "drop_rate_start: 0.1\n",
      "num_layers: 2\n",
      "units_0: 8\n",
      "drop_rate_0: 0.5\n",
      "units_end: 40\n",
      "drop_rate_end: 0.2\n",
      "learning_rate: 0.0001\n",
      "units_1: 120\n",
      "drop_rate_1: 0.4\n",
      "units_2: 56\n",
      "drop_rate_2: 0.0\n",
      "units_3: 104\n",
      "drop_rate_3: 0.3\n",
      "units_4: 104\n",
      "drop_rate_4: 0.0\n",
      "Score: 4353.476399739583\n",
      "Trial summary\n",
      "Hyperparameters:\n",
      "units_start: 56\n",
      "drop_rate_start: 0.2\n",
      "num_layers: 3\n",
      "units_0: 56\n",
      "drop_rate_0: 0.5\n",
      "units_end: 40\n",
      "drop_rate_end: 0.4\n",
      "learning_rate: 0.0001\n",
      "units_1: 40\n",
      "drop_rate_1: 0.0\n",
      "units_2: 120\n",
      "drop_rate_2: 0.0\n",
      "units_3: 56\n",
      "drop_rate_3: 0.2\n",
      "units_4: 40\n",
      "drop_rate_4: 0.5\n",
      "Score: 4414.636555989583\n",
      "Trial summary\n",
      "Hyperparameters:\n",
      "units_start: 56\n",
      "drop_rate_start: 0.1\n",
      "num_layers: 5\n",
      "units_0: 24\n",
      "drop_rate_0: 0.0\n",
      "units_end: 24\n",
      "drop_rate_end: 0.5\n",
      "learning_rate: 0.0001\n",
      "units_1: 8\n",
      "drop_rate_1: 0.0\n",
      "units_2: 8\n",
      "drop_rate_2: 0.0\n",
      "units_3: 8\n",
      "drop_rate_3: 0.0\n",
      "units_4: 8\n",
      "drop_rate_4: 0.0\n",
      "Score: 4658.461263020833\n",
      "None\n"
     ]
    }
   ],
   "source": [
    "!rm -rf exec_data  # delete the previous execution data\n",
    "\n",
    "MAX_TRIALS = 8    # TODO: 40\n",
    "EXECUTIONS_PER_TRIAL = 3     # TODO: 3 or 5\n",
    "TRAIN_EPOCHS = 32\n",
    "\n",
    "tuner = BayesianOptimization(\n",
    "    tune_model_nn,\n",
    "    objective=kerastuner.Objective('loss', 'min'),\n",
    "    max_trials=MAX_TRIALS,\n",
    "    executions_per_trial=EXECUTIONS_PER_TRIAL,\n",
    "    directory='exec_data',\n",
    "    project_name='lstm_nn'\n",
    ")\n",
    "print(tuner.search_space_summary())\n",
    "tuner.search(x=X_train_lstm, y=y_train, epochs=TRAIN_EPOCHS, \n",
    "             validation_data=(X_test_lstm, y_test))\n",
    "print(tuner.results_summary())"
   ]
  },
  {
   "cell_type": "code",
   "execution_count": 82,
   "metadata": {},
   "outputs": [
    {
     "name": "stdout",
     "output_type": "stream",
     "text": [
      "Results summary\n",
      "Results in exec_data/lstm_nn\n",
      "Showing 10 best trials\n",
      "Objective(name='loss', direction='min')\n",
      "Trial summary\n",
      "Hyperparameters:\n",
      "units_start: 88\n",
      "drop_rate_start: 0.2\n",
      "num_layers: 1\n",
      "units_0: 88\n",
      "drop_rate_0: 0.0\n",
      "units_end: 56\n",
      "drop_rate_end: 0.3\n",
      "learning_rate: 0.01\n",
      "units_1: 72\n",
      "drop_rate_1: 0.4\n",
      "units_2: 104\n",
      "drop_rate_2: 0.3\n",
      "units_3: 56\n",
      "drop_rate_3: 0.2\n",
      "units_4: 88\n",
      "drop_rate_4: 0.1\n",
      "Score: 2451.8072102864585\n",
      "Trial summary\n",
      "Hyperparameters:\n",
      "units_start: 40\n",
      "drop_rate_start: 0.3\n",
      "num_layers: 3\n",
      "units_0: 104\n",
      "drop_rate_0: 0.1\n",
      "units_end: 72\n",
      "drop_rate_end: 0.2\n",
      "learning_rate: 0.001\n",
      "units_1: 104\n",
      "drop_rate_1: 0.3\n",
      "units_2: 56\n",
      "drop_rate_2: 0.0\n",
      "units_3: 56\n",
      "drop_rate_3: 0.5\n",
      "units_4: 104\n",
      "drop_rate_4: 0.3\n",
      "Score: 3009.0823567708335\n",
      "Trial summary\n",
      "Hyperparameters:\n",
      "units_start: 40\n",
      "drop_rate_start: 0.3\n",
      "num_layers: 3\n",
      "units_0: 104\n",
      "drop_rate_0: 0.1\n",
      "units_end: 72\n",
      "drop_rate_end: 0.2\n",
      "learning_rate: 0.001\n",
      "units_1: 104\n",
      "drop_rate_1: 0.3\n",
      "units_2: 56\n",
      "drop_rate_2: 0.0\n",
      "units_3: 56\n",
      "drop_rate_3: 0.5\n",
      "units_4: 104\n",
      "drop_rate_4: 0.3\n",
      "Score: 3061.3951822916665\n",
      "Trial summary\n",
      "Hyperparameters:\n",
      "units_start: 24\n",
      "drop_rate_start: 0.5\n",
      "num_layers: 2\n",
      "units_0: 72\n",
      "drop_rate_0: 0.5\n",
      "units_end: 56\n",
      "drop_rate_end: 0.4\n",
      "learning_rate: 0.001\n",
      "units_1: 40\n",
      "drop_rate_1: 0.2\n",
      "units_2: 104\n",
      "drop_rate_2: 0.3\n",
      "units_3: 88\n",
      "drop_rate_3: 0.4\n",
      "units_4: 104\n",
      "drop_rate_4: 0.3\n",
      "Score: 3422.8631998697915\n",
      "Trial summary\n",
      "Hyperparameters:\n",
      "units_start: 8\n",
      "drop_rate_start: 0.1\n",
      "num_layers: 3\n",
      "units_0: 88\n",
      "drop_rate_0: 0.3\n",
      "units_end: 88\n",
      "drop_rate_end: 0.0\n",
      "learning_rate: 0.0001\n",
      "units_1: 72\n",
      "drop_rate_1: 0.2\n",
      "units_2: 40\n",
      "drop_rate_2: 0.2\n",
      "units_3: 72\n",
      "drop_rate_3: 0.3\n",
      "units_4: 24\n",
      "drop_rate_4: 0.2\n",
      "Score: 3658.2119954427085\n",
      "Trial summary\n",
      "Hyperparameters:\n",
      "units_start: 8\n",
      "drop_rate_start: 0.1\n",
      "num_layers: 2\n",
      "units_0: 8\n",
      "drop_rate_0: 0.5\n",
      "units_end: 40\n",
      "drop_rate_end: 0.2\n",
      "learning_rate: 0.0001\n",
      "units_1: 120\n",
      "drop_rate_1: 0.4\n",
      "units_2: 56\n",
      "drop_rate_2: 0.0\n",
      "units_3: 104\n",
      "drop_rate_3: 0.3\n",
      "units_4: 104\n",
      "drop_rate_4: 0.0\n",
      "Score: 4353.476399739583\n",
      "Trial summary\n",
      "Hyperparameters:\n",
      "units_start: 56\n",
      "drop_rate_start: 0.2\n",
      "num_layers: 3\n",
      "units_0: 56\n",
      "drop_rate_0: 0.5\n",
      "units_end: 40\n",
      "drop_rate_end: 0.4\n",
      "learning_rate: 0.0001\n",
      "units_1: 40\n",
      "drop_rate_1: 0.0\n",
      "units_2: 120\n",
      "drop_rate_2: 0.0\n",
      "units_3: 56\n",
      "drop_rate_3: 0.2\n",
      "units_4: 40\n",
      "drop_rate_4: 0.5\n",
      "Score: 4414.636555989583\n",
      "Trial summary\n",
      "Hyperparameters:\n",
      "units_start: 56\n",
      "drop_rate_start: 0.1\n",
      "num_layers: 5\n",
      "units_0: 24\n",
      "drop_rate_0: 0.0\n",
      "units_end: 24\n",
      "drop_rate_end: 0.5\n",
      "learning_rate: 0.0001\n",
      "units_1: 8\n",
      "drop_rate_1: 0.0\n",
      "units_2: 8\n",
      "drop_rate_2: 0.0\n",
      "units_3: 8\n",
      "drop_rate_3: 0.0\n",
      "units_4: 8\n",
      "drop_rate_4: 0.0\n",
      "Score: 4658.461263020833\n",
      "None\n"
     ]
    }
   ],
   "source": [
    "# Get best model\n",
    "print(tuner.results_summary())"
   ]
  },
  {
   "cell_type": "code",
   "execution_count": 95,
   "metadata": {},
   "outputs": [
    {
     "name": "stdout",
     "output_type": "stream",
     "text": [
      "Bayesion Optimization Hyperparameters:\n"
     ]
    },
    {
     "data": {
      "text/plain": [
       "{'units_start': 88,\n",
       " 'drop_rate_start': 0.2,\n",
       " 'num_layers': 1,\n",
       " 'units_0': 88,\n",
       " 'drop_rate_0': 0.0,\n",
       " 'units_end': 56,\n",
       " 'drop_rate_end': 0.3,\n",
       " 'learning_rate': 0.01,\n",
       " 'units_1': 72,\n",
       " 'drop_rate_1': 0.4,\n",
       " 'units_2': 104,\n",
       " 'drop_rate_2': 0.3,\n",
       " 'units_3': 56,\n",
       " 'drop_rate_3': 0.2,\n",
       " 'units_4': 88,\n",
       " 'drop_rate_4': 0.1}"
      ]
     },
     "execution_count": 95,
     "metadata": {},
     "output_type": "execute_result"
    }
   ],
   "source": [
    "print('Bayesion Optimization Hyperparameters:')\n",
    "tuner.oracle.get_best_trials(num_trials=1)[0].hyperparameters.values"
   ]
  },
  {
   "cell_type": "code",
   "execution_count": 99,
   "metadata": {},
   "outputs": [
    {
     "name": "stdout",
     "output_type": "stream",
     "text": [
      "1043/1043 [==============================] - 8s 8ms/step - loss: 2420.2668 - mae: 37.1446 - mse: 2420.2668\n",
      "Bayesion Optimization Results:\n",
      "mean_squared_error: 22813.898149900288\n",
      "mean_absolute_error: 146.8777267116004\n",
      "r2_score: -440016.36074966507\n"
     ]
    }
   ],
   "source": [
    "bo_best_model = tuner.get_best_models()[0]\n",
    "bo_best_model.fit(X_train_lstm, y_train)\n",
    "\n",
    "print('Bayesion Optimization Results:')\n",
    "y_pred = bo_best_model.predict(X_test_lstm)\n",
    "regression_report(y_test, y_pred)"
   ]
  },
  {
   "cell_type": "markdown",
   "metadata": {},
   "source": [
    "### Normalise the value between 0 and 1. Then  ploting the graph"
   ]
  },
  {
   "cell_type": "code",
   "execution_count": 97,
   "metadata": {},
   "outputs": [
    {
     "data": {
      "image/png": "[encoded data removed]",
      "text/plain": [
       "<Figure size 432x288 with 1 Axes>"
      ]
     },
     "metadata": {
      "needs_background": "light"
     },
     "output_type": "display_data"
    }
   ],
   "source": [
    "y_test= (y_test-min(y_test))/(max(y_test)-min(y_test))\n",
    "y_pred=  (y_pred-min(y_pred))/(max(y_pred)-min(y_pred))\n",
    "\n",
    "plt.plot(np.array(y_test[:200]),label='Truth Value')\n",
    "plt.plot(np.array(y_pred[:200]),label='Prediction')\n",
    "plt.legend()\n",
    "plt.show()"
   ]
  },
  {
   "cell_type": "markdown",
   "metadata": {},
   "source": [
    "# Conclusion \n",
    "\n",
    "- Large amounts of NA values can significantly affect the output of the model. First of all, different methods can be used to fill in Null values.For example, interpolation. Or, NA values can be filled with the averages of a certain number of previous and next values with the number of windows. \n",
    "-  A regression problem where input variables are ordered by time is called a time series forecasting problem. Regression is the task of predicting a continuous quantity and we can know how close the predictions were to the expected values. Therefore in here we used to regressors.\n",
    "- We chosed XBoostRegressor and SGDRegressor ML, and LSTM for our Deep Leaning model. (Apart from the created models, many models can be used.)Each algorithm has their own advantages and disadvantages.\n",
    "- When we examine the results of Deep Learning and Machine Learning, it is seen that Deep Learning is more successful (With the same amount of the same data.). "
   ]
  }
 ],
 "metadata": {
  "kernelspec": {
   "display_name": "Python 3",
   "language": "python",
   "name": "python3"
  },
  "language_info": {
   "codemirror_mode": {
    "name": "ipython",
    "version": 3
   },
   "file_extension": ".py",
   "mimetype": "text/x-python",
   "name": "python",
   "nbconvert_exporter": "python",
   "pygments_lexer": "ipython3",
   "version": "3.7.6"
  }
 },
 "nbformat": 4,
 "nbformat_minor": 4
}
